{
 "cells": [
  {
   "cell_type": "markdown",
   "source": [
    "# Naive way to calculate loss and gradient"
   ],
   "metadata": {}
  },
  {
   "cell_type": "code",
   "execution_count": 25,
   "source": [
    "import numpy as np\n",
    "import matplotlib.pyplot as plt\n",
    "import time \n",
    "\n",
    "def svm_loss_naive(W, X, y, reg):\n",
    "    d, C = W.shape\n",
    "    _, N = X.shape\n",
    "\n",
    "    loss = 0\n",
    "    dW = np.zeros_like(W)\n",
    "    for n in range(N):\n",
    "        xn = X[:, n]\n",
    "        score = W.T.dot(xn)\n",
    "        for j in range(C):\n",
    "            if j==y[n]:\n",
    "                continue\n",
    "            margin = 1 - score[y[n]] +score[j]\n",
    "            if margin > 0:\n",
    "                loss += margin\n",
    "                dW[:, j] += xn\n",
    "                dW[:, y[n]] -= xn\n",
    "    \n",
    "    loss /= N\n",
    "    loss += 0.5*reg*np.sum(W*W)\n",
    "    dW /= N\n",
    "    dW += reg*W\n",
    "    \n",
    "    return loss, dW\n",
    "\n",
    "N, C, d = 10, 3, 5\n",
    "W = np.random.randn(d, C)\n",
    "X = np.random.randn(d, N)\n",
    "y = np.random.randint(C, size=N)\n",
    "\n",
    "print('Loss without regularization:', svm_loss_naive(W, X, y, 0)[0])\n",
    "print('Loss with regularization:', svm_loss_naive(W, X, y, 0.1)[0])\n"
   ],
   "outputs": [
    {
     "output_type": "stream",
     "name": "stdout",
     "text": [
      "Loss without regularization: 6.443917350191055\n",
      "Loss with regularization: 7.554177384246895\n"
     ]
    }
   ],
   "metadata": {}
  },
  {
   "cell_type": "code",
   "execution_count": 26,
   "source": [
    "f = lambda W: svm_loss_naive(W, X, y, 0.1)[0]\n",
    "\n",
    "def numerical_grad_general(W, f):\n",
    "    eps = 1e-6\n",
    "    g = np.zeros_like(W)\n",
    "\n",
    "    W_flattened = W.flatten()\n",
    "    g_flattened = np.zeros_like(W_flattened)\n",
    "\n",
    "    for i in range(W.size):\n",
    "        W_p = W_flattened.copy()\n",
    "        W_n = W_flattened.copy()\n",
    "        W_p[i] += eps\n",
    "        W_n[i] -= eps\n",
    "\n",
    "        W_p = W_p.reshape(W.shape)\n",
    "        W_n = W_n.reshape(W.shape)\n",
    "        g_flattened[i] = (f(W_p) - f(W_n))/(2*eps)\n",
    "    \n",
    "    return g_flattened.reshape(W.shape)\n",
    "\n",
    "g1 = svm_loss_naive(W, X, y, 0.1)[1]\n",
    "g2 = numerical_grad_general(W, f)\n",
    "print('Gradient different', np.linalg.norm(g1 - g2))"
   ],
   "outputs": [
    {
     "output_type": "stream",
     "name": "stdout",
     "text": [
      "Gradient different 3.1612752429049813e-09\n"
     ]
    }
   ],
   "metadata": {}
  },
  {
   "cell_type": "markdown",
   "source": [
    "# Calcuate loss and gradient with vectorization"
   ],
   "metadata": {}
  },
  {
   "cell_type": "code",
   "execution_count": 27,
   "source": [
    "def svm_loss_vectorized(W, X, y, reg): # e.g: N = 5, C = 3, d = 4\n",
    "    d, C = W.shape \n",
    "    _, N = X.shape \n",
    "    loss = 0 \n",
    "    dW = np.zeros_like(W)\n",
    "\n",
    "    Z = W.T.dot(X)\n",
    "    # e.g: y = [0 1 2 0 2]\n",
    "    #      Z = [[ 3.11858146  0.03385199 -0.2407119  -1.06607825 -2.59761588]\n",
    "    #           [-3.08404402  1.85173927  0.2907681   1.75411857  2.30619145]\n",
    "    #           [-4.07148415  0.80598184 -1.15251673  1.64579593  5.96190991]]\n",
    "    \n",
    "    correct_class_score = np.choose(y, Z).reshape(N, 1).T # choose z_yn\n",
    "    # np.choose(y,Z) = [3.11858146  1.85173927 -1.15251673 -1.06607825  5.96190991]\n",
    "    # correct_class_score = [[ 3.11858146  1.85173927 -1.15251673 -1.06607825  5.96190991]]\n",
    "\n",
    "    margins = np.maximum(0, 1 - correct_class_score + Z)\n",
    "    # margins = [[1.         0.         1.91180483 1.         0.        ]\n",
    "    #            [0.         1.         2.44328483 3.82019681 0.        ]\n",
    "    #            [0.         0.         1.         3.71187417 1.        ]]\n",
    "    # margins[y, np.arange(margins.shape[1])]: margins[0, 0] = margins[1, 1] = margins[2, 2] = margins[0, 3] = margins[2, 4] = 1\n",
    "    margins[y, np.arange(margins.shape[1])] = 0\n",
    "    \n",
    "    loss = np.sum(margins, axis=(0, 1))\n",
    "    loss /= N\n",
    "    loss += 0.5*reg*np.sum(W*W)\n",
    "\n",
    "    F = (margins > 0).astype(int)\n",
    "    # F = [[0 0 1 0 0]\n",
    "    #      [0 0 1 1 0]\n",
    "    #      [0 0 0 1 0]]\n",
    "    F[y, np.arange(F.shape[1])] = np.sum(-F, axis=0)\n",
    "    # F = [[ 0  0  1 -2  0]\n",
    "    #      [ 0  0  1  1  0]\n",
    "    #      [ 0  0 -2  1  0]]\n",
    "    dW = X.dot(F.T)/N + reg*W\n",
    "    return loss, dW"
   ],
   "outputs": [],
   "metadata": {}
  },
  {
   "cell_type": "code",
   "execution_count": 28,
   "source": [
    "N, C, d = 5, 3, 4\n",
    "reg = .1 \n",
    "W = np.random.randn(d, C)\n",
    "X = np.random.randn(d, N)\n",
    "y = np.random.randint(C, size = N)\n",
    "np.random.seed(2)\n",
    "\n",
    "t1 = time.time()\n",
    "l1, dW1 = svm_loss_naive(W, X, y, reg)\n",
    "t2 = time.time()\n",
    "print('Naive: run time:', t2 - t1, '(s)')\n",
    "\n",
    "t1 = time.time()\n",
    "l2, dW2 = svm_loss_vectorized(W, X, y, reg)\n",
    "t2 = time.time()\n",
    "print('Vectorized: run time:', t2 - t1, '(s)')\n",
    "print('loss difference:', np.linalg.norm(l1 - l2))\n",
    "print('gradient difference:', np.linalg.norm(dW1 - dW2))\n"
   ],
   "outputs": [
    {
     "output_type": "stream",
     "name": "stdout",
     "text": [
      "Naive: run time: 0.00023865699768066406 (s)\n",
      "Vectorized: run time: 0.00028252601623535156 (s)\n",
      "loss difference: 8.881784197001252e-16\n",
      "gradient difference: 1.1102230246251565e-16\n"
     ]
    }
   ],
   "metadata": {}
  },
  {
   "cell_type": "code",
   "execution_count": 29,
   "source": [
    "# Mini-batch gradient descent\n",
    "def multiclass_svm_GD(X, y, Winit, reg, lr=.1, batch_size = 100, num_iters = 1000, print_every = 100):\n",
    "    W = Winit \n",
    "    loss_history = np.zeros((num_iters))\n",
    "    for it in range(num_iters):\n",
    "        # randomly pick a batch of X\n",
    "        idx = np.random.choice(X.shape[1], batch_size)\n",
    "        X_batch = X[:, idx]\n",
    "        y_batch = y[idx]\n",
    "\n",
    "        loss_history[it], dW = svm_loss_vectorized(W, X_batch, y_batch, reg)\n",
    "\n",
    "        W -= lr*dW \n",
    "        if it % print_every == 1:\n",
    "            print ('It %d/%d, loss = %f' %(it, num_iters, loss_history[it]))\n",
    "\n",
    "    return W, loss_history \n",
    "\n",
    "N, C, d = 49000, 10, 3073\n",
    "reg = .1 \n",
    "W = np.random.randn(d, C)\n",
    "X = np.random.randn(d, N)\n",
    "y = np.random.randint(C, size = N)\n",
    "\n",
    "W, loss_history = multiclass_svm_GD(X, y, W, reg)\n",
    "\n",
    "plt.plot(loss_history)\n",
    "plt.show()"
   ],
   "outputs": [
    {
     "output_type": "stream",
     "name": "stdout",
     "text": [
      "It 1/1000, loss = 1748.425423\n",
      "It 101/1000, loss = 246.153509\n",
      "It 201/1000, loss = 56.164234\n",
      "It 301/1000, loss = 41.880521\n",
      "It 401/1000, loss = 44.352071\n",
      "It 501/1000, loss = 35.767882\n",
      "It 601/1000, loss = 43.637357\n",
      "It 701/1000, loss = 38.216415\n",
      "It 801/1000, loss = 42.089773\n",
      "It 901/1000, loss = 42.202983\n"
     ]
    },
    {
     "output_type": "display_data",
     "data": {
      "image/png": "[encoded data removed]",
      "text/plain": [
       "<Figure size 432x288 with 1 Axes>"
      ]
     },
     "metadata": {
      "needs_background": "light"
     }
    }
   ],
   "metadata": {}
  }
 ],
 "metadata": {
  "orig_nbformat": 4,
  "language_info": {
   "name": "python",
   "version": "3.9.5",
   "mimetype": "text/x-python",
   "codemirror_mode": {
    "name": "ipython",
    "version": 3
   },
   "pygments_lexer": "ipython3",
   "nbconvert_exporter": "python",
   "file_extension": ".py"
  },
  "kernelspec": {
   "name": "python3",
   "display_name": "Python 3.9.5 64-bit"
  },
  "interpreter": {
   "hash": "916dbcbb3f70747c44a77c7bcd40155683ae19c65e1c03b4aa3499c5328201f1"
  }
 },
 "nbformat": 4,
 "nbformat_minor": 2
}