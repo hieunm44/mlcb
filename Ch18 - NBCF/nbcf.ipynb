{
 "cells": [
  {
   "cell_type": "code",
   "execution_count": 2,
   "source": [
    "import numpy as np\n",
    "import pandas as pd\n",
    "from sklearn.metrics.pairwise import cosine_similarity\n",
    "from scipy import sparse"
   ],
   "outputs": [],
   "metadata": {}
  },
  {
   "cell_type": "code",
   "execution_count": 69,
   "source": [
    "class CF:\n",
    "    def __init__(self, Y_data, k, dist_func=cosine_similarity, uuCF=1):\n",
    "        self.uuCF = uuCF # uuCF=1: user-user, else item-item\n",
    "        self.Y_data = Y_data if uuCF else Y_data[:, [1, 0, 2]] # rating matrix (not utility matrix)\n",
    "                                                               # shape = (total no. of ratings, 3)\n",
    "        self.k = k # no. of neighbor points, e.g: k = 2\n",
    "        self.dist_func = dist_func # similarity function\n",
    "        self.Ybar_data = None # Normalized utility matrix\n",
    "        self.n_users = int(np.amax(self.Y_data[:, 0])) + 1 # e.g: n_users = 7\n",
    "        self.n_items = int(np.amax(self.Y_data[:, 1])) + 1 # e.g: n_items = 5\n",
    "    \n",
    "\n",
    "    def add(self, new_data):\n",
    "        \"\"\"\n",
    "        Update Y_data when new ratings come\n",
    "        (suppose there is no new user or item)\n",
    "        \"\"\"\n",
    "\n",
    "        self.Y_data = np.concatenate((self.Y_data, new_data), axis=0)\n",
    "        \n",
    "\n",
    "    def normalize_Y(self):\n",
    "        users =self.Y_data[:, 0] # get users_id of all users\n",
    "        self.Ybar_data = self.Y_data.copy()\n",
    "        self.mu = np.zeros((self.n_users,)) # means of ratings for every users\n",
    "\n",
    "        for n in range(self.n_users):\n",
    "            user_ids = np.where(users == n)[0]\n",
    "            # item_ids = self.Y_data[user_ids, 1]\n",
    "            ratings = self.Y_data[user_ids, 2]\n",
    "            m = np.mean(ratings)\n",
    "            if np.isnan(m):\n",
    "                m = 0\n",
    "            self.mu[n] = m\n",
    "            self.Ybar_data[user_ids, 2] = ratings - self.mu[n]\n",
    "\n",
    "        self.Ybar = sparse.coo_matrix((self.Ybar_data[:,2], (self.Ybar_data[:, 1], self.Ybar_data[:, 0])),\n",
    "                                      (self.n_items,self.n_users))\n",
    "        self.Ybar = self.Ybar.tocsr()\n",
    "\n",
    "        \"\"\"\n",
    "        E.g: Ybar_data = \n",
    "                    [[ 0.          0.          1.75      ]\n",
    "                     [ 0.          1.          0.75      ]\n",
    "                     [ 0.          3.         -1.25      ]\n",
    "                     [ 0.          4.         -1.25      ]\n",
    "                     [ 1.          0.          2.25      ]\n",
    "                     [ 1.          2.          1.25      ]\n",
    "                     [ 1.          3.         -0.75      ]\n",
    "                     [ 1.          4.         -2.75      ]\n",
    "                     [ 2.          0.         -0.5       ]\n",
    "                     [ 2.          2.         -1.5       ]\n",
    "                     [ 2.          3.          0.5       ]\n",
    "                     [ 2.          4.          1.5       ]\n",
    "                     [ 3.          0.         -1.33333333]\n",
    "                     [ 3.          1.         -1.33333333]\n",
    "                     [ 3.          3.          2.66666667]\n",
    "                     [ 4.          0.         -1.5       ]\n",
    "                     [ 4.          3.          1.5       ]\n",
    "                     [ 5.          1.          0.5       ]\n",
    "                     [ 5.          2.         -0.5       ]\n",
    "                     [ 6.          2.         -2.33333333]\n",
    "                     [ 6.          3.          0.66666667]\n",
    "                     [ 6.          4.          1.66666667]]\n",
    "                \n",
    "             Ybar = [[ 1.75        2.25       -0.5        -1.33333333 -1.5         0.         0.        ]\n",
    "                     [ 0.75        0.          0.         -1.33333333  0.          0.5        0.        ]\n",
    "                     [ 0.          1.25       -1.5         0.          0.         -0.5       -2.33333333]\n",
    "                     [-1.25       -0.75        0.5         2.66666667  1.5         0.         0.66666667]\n",
    "                     [-1.25       -2.75        1.5         0.          0.          0.         1.66666667]]\n",
    "        \"\"\"\n",
    "    \n",
    "    \n",
    "    def similarity(self):\n",
    "        self.S = self.dist_func(self.Ybar.T,self.Ybar.T) # similarity matrix\n",
    "\n",
    "    \n",
    "    def refresh(self):\n",
    "        self.normalize_Y()\n",
    "        self.similarity()\n",
    "    \n",
    "\n",
    "    def fit(self):\n",
    "        self.refresh()\n",
    "\n",
    "        \n",
    "    def __pred(self, u, i,normalized=1): # e.g: u = 0, i = 2\n",
    "        \"\"\"\n",
    "        Predict rating of user y for item i (normalized)\n",
    "        \"\"\"\n",
    "        # Step 1: find all users who rated item i\n",
    "        ids = np.where(self.Y_data[:, 1] == i)[0] # ids = [5 9 18 19]\n",
    "        users_rated_i = (self.Y_data[ids, 0]).astype('int') # users_rated_i = [1 2 5 6]\n",
    "\n",
    "        # Step 2: Find similarity between user u and other users\n",
    "        sim = self.S[u, users_rated_i] # sim = [0.83307435 -0.5809475 0.20412415 -0.38133693]\n",
    "\n",
    "        # Step 3: Find k most similar users to user u and get corresponding similarity values\n",
    "        a = np.argsort(sim)[-self.k:] # a = [2 0]\n",
    "        nearest_s = sim[a] # nearest_s = [0.20412415 0.83307435]\n",
    "\n",
    "        # Get ratings from those users to item i\n",
    "        r = self.Ybar[i, users_rated_i[a]] # r = [-0.5, 1.25]\n",
    "\n",
    "        # Step 4: Calculate predicted rating\n",
    "        if normalized:\n",
    "            return (r*nearest_s)[0]/(np.abs(nearest_s).sum() + 1e-8)\n",
    "        return (r*nearest_s)[0]/(np.abs(nearest_s).sum() + 1e-8) + self.mu[u]\n",
    "        \n",
    "\n",
    "    def pred(self, u, i, normalized=1):\n",
    "        if self.uuCF:\n",
    "            return self.__pred(u,i, normalized)\n",
    "        return self.__pred(i, u, normalized)\n",
    "    \n",
    "\n",
    "    def recommend(self, u, normalized = 1): # e.g: u = 3\n",
    "        \"\"\"\n",
    "        Determine all items should be recommended for user u (uuCF =1)\n",
    "        or all users who might have interest on item u (uuCF = 0).\n",
    "        The decision is made based on all i such that self.pred(u, i) > 0.\n",
    "        Suppose we are considering items which have not been rated by u yet. \n",
    "        \"\"\"\n",
    "\n",
    "        # Get all items rated by user u\n",
    "        ids = np.where(self.Y_data[:, 0] == u)[0] # ids = [12 13 14]\n",
    "        items_rated_by_u = self.Y_data[ids, 1].tolist() # items_rated_by_u = [0 1 3]\n",
    "\n",
    "        recommended_items = []\n",
    "\n",
    "        for i in range(self.n_items):\n",
    "            if i not in items_rated_by_u: # i = 2, 4\n",
    "                ratings = self.__pred(u, i) # ratings = -1.8358682492385117, 1.5671736236903118\n",
    "                if ratings > 0:\n",
    "                    recommended_items.append(i)\n",
    "                    \n",
    "        return recommended_items # recommended_items = [4]\n",
    "\n",
    "    \n",
    "    def print_recommendation(self):\n",
    "        print('Recommendation:')\n",
    "        for u in range(self.n_users):\n",
    "            recommended_items = self.recommend(u)\n",
    "            if self.uuCF:\n",
    "                print('Recommend item(s):', recommended_items, 'to user', u)\n",
    "            else:\n",
    "                print('Recommend item', u, 'to user(s):', recommended_items)"
   ],
   "outputs": [],
   "metadata": {}
  },
  {
   "cell_type": "markdown",
   "source": [
    "# User-user CF"
   ],
   "metadata": {}
  },
  {
   "cell_type": "code",
   "execution_count": 71,
   "source": [
    "r_cols = ['user_id', 'item_id', 'rating']\n",
    "ratings = pd.read_csv('ex.dat', sep=' ', names=r_cols,\n",
    "                     encoding='latin-1')\n",
    "Y_data = ratings.values\n",
    "\n",
    "rs = CF(Y_data, k=2,uuCF=1)\n",
    "rs.fit()\n",
    "rs.print_recommendation()"
   ],
   "outputs": [
    {
     "output_type": "stream",
     "name": "stdout",
     "text": [
      "Recommendation:\n",
      "Recommend item(s): [2] to user 0\n",
      "Recommend item(s): [1] to user 1\n",
      "Recommend item(s): [] to user 2\n",
      "Recommend item(s): [4] to user 3\n",
      "Recommend item(s): [4] to user 4\n",
      "Recommend item(s): [0, 3, 4] to user 5\n",
      "Recommend item(s): [1] to user 6\n"
     ]
    }
   ],
   "metadata": {}
  },
  {
   "cell_type": "markdown",
   "source": [
    "# Item-item CF"
   ],
   "metadata": {}
  },
  {
   "cell_type": "code",
   "execution_count": 72,
   "source": [
    "rs = CF(Y_data, k=2, uuCF=0)\n",
    "rs.fit()\n",
    "rs.print_recommendation()"
   ],
   "outputs": [
    {
     "output_type": "stream",
     "name": "stdout",
     "text": [
      "Recommendation:\n",
      "Recommend item 0 to user(s): []\n",
      "Recommend item 1 to user(s): [1]\n",
      "Recommend item 2 to user(s): [0]\n",
      "Recommend item 3 to user(s): [5]\n",
      "Recommend item 4 to user(s): [3, 4, 5]\n"
     ]
    }
   ],
   "metadata": {}
  },
  {
   "cell_type": "markdown",
   "source": [
    "# MovieLens 100k"
   ],
   "metadata": {}
  },
  {
   "cell_type": "code",
   "execution_count": 74,
   "source": [
    "r_cols = ['user_id', 'movie_id', 'rating', 'unix_timestamp']\n",
    "\n",
    "ratings_base = pd.read_csv('ml-100k/ub.base', sep='\\t', names=r_cols, encoding='latin-1')\n",
    "ratings_test = pd.read_csv('ml-100k/ub.test', sep='\\t', names=r_cols, encoding='latin-1')\n",
    "\n",
    "rate_train = ratings_base.values # shape = (90570, 4)\n",
    "rate_test = ratings_test.values # shape = (9430, 4)\n",
    "\n",
    "# indices start from 0\n",
    "rate_train[:, :2] -= 1\n",
    "rate_test[:, :2] -= 1\n",
    "\n",
    "# User-user\n",
    "rs = CF(rate_train, k=30, uuCF=1)\n",
    "rs.fit()\n",
    "\n",
    "n_test = rate_test.shape[0]\n",
    "SE = 0\n",
    "for n in range(n_test):\n",
    "    pred = rs.pred(rate_test[n, 0], rate_test[n, 1], normalized=0)\n",
    "    SE += (pred - rate_test[n,2 ])**2\n",
    "RMSE = np.sqrt(SE/n_test)\n",
    "\n",
    "print(\"User-user CF: RMSE =\", RMSE)\n",
    "\n",
    "# Item-item\n",
    "rs = CF(rate_train, k = 30, uuCF = 0)\n",
    "rs.fit()\n",
    "\n",
    "n_tests = rate_test.shape[0]\n",
    "SE = 0\n",
    "for n in range(n_tests):\n",
    "    pred = rs.pred(rate_test[n, 0], rate_test[n, 1], normalized = 0)\n",
    "    SE += (pred - rate_test[n, 2])**2 \n",
    "\n",
    "RMSE = np.sqrt(SE/n_tests)\n",
    "print (\"Item-item CF: RMSE =\", RMSE)"
   ],
   "outputs": [
    {
     "output_type": "stream",
     "name": "stdout",
     "text": [
      "User-user CF: RMSE = 0.9951981100882598\n",
      "Item-item CF: RMSE = 0.9867912132705384\n"
     ]
    }
   ],
   "metadata": {}
  }
 ],
 "metadata": {
  "kernelspec": {
   "name": "python3",
   "display_name": "Python 3.9.5 64-bit"
  },
  "language_info": {
   "codemirror_mode": {
    "name": "ipython",
    "version": 3
   },
   "file_extension": ".py",
   "mimetype": "text/x-python",
   "name": "python",
   "nbconvert_exporter": "python",
   "pygments_lexer": "ipython3",
   "version": "3.9.5"
  },
  "interpreter": {
   "hash": "916dbcbb3f70747c44a77c7bcd40155683ae19c65e1c03b4aa3499c5328201f1"
  }
 },
 "nbformat": 4,
 "nbformat_minor": 5
}