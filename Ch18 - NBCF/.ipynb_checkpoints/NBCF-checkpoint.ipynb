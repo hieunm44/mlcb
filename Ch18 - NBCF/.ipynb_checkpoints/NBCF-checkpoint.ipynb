{
 "cells": [
  {
   "cell_type": "code",
   "execution_count": 1,
   "id": "yellow-employment",
   "metadata": {},
   "outputs": [],
   "source": [
    "import numpy as np\n",
    "import pandas as pd\n",
    "from sklearn.metrics.pairwise import cosine_similarity\n",
    "from scipy import sparse"
   ]
  },
  {
   "cell_type": "code",
   "execution_count": 2,
   "id": "clear-jimmy",
   "metadata": {},
   "outputs": [],
   "source": [
    "class CF:\n",
    "    def __init__(self, Y_data, k, dist_func=cosine_similarity, uuCF=1):\n",
    "        self.uuCF = uuCF # uuCF=1: user-user, else item-item\n",
    "        self.Y_data = Y_data if uuCF else Y_data[:, [1, 0, 2]] # Utility matrix\n",
    "        self.k = k # Number of neighbor points\n",
    "        self.dist_func = dist_func\n",
    "        self.Ybar_data = None # Normalized utility matrix\n",
    "        self.n_users = int(np.max(self.Y_data[:, 0])) + 1\n",
    "        self.n_items = int(np.max(self.Y_data[:, 1])) + 1\n",
    "    \n",
    "    def add(self, new_data):\n",
    "        self.Y_data = np.concatenate((self.Y_data, new_data), axis=0)\n",
    "        \n",
    "    def normalize_Y(self):\n",
    "        users =self.Y_data[:, 0]\n",
    "        self.Ybar_data = self.Y_data.copy()\n",
    "        self.mu = np.zeros((self.n_users,))\n",
    "        for n in range(self.n_users):\n",
    "            user_ids = np.where(users == n)[0]\n",
    "            item_ids = self.Y_data[user_ids, 1]\n",
    "            ratings = self.Y_data[user_ids, 2]\n",
    "            m = np.mean(ratings)\n",
    "            if np.isnan(m):\n",
    "                m = 0\n",
    "            self.mu[n] = m\n",
    "            self.Ybar_data[user_ids, 2] = ratings - self.mu[n]\n",
    "        self.Ybar = sparse.coo_matrix((self.Ybar_data[:,2], (self.Ybar_data[:, 1], self.Ybar_data[:, 0])),\n",
    "                                      (self.n_items,self.n_users))\n",
    "        self.Ybar = self.Ybar.tocsr()\n",
    "\n",
    "        \"\"\"\n",
    "        E.g: Y_data = \n",
    "                    [[ 0.          0.          1.75      ]\n",
    "                     [ 0.          1.          0.75      ]\n",
    "                     [ 0.          3.         -1.25      ]\n",
    "                     [ 0.          4.         -1.25      ]\n",
    "                     [ 1.          0.          2.25      ]\n",
    "                     [ 1.          2.          1.25      ]\n",
    "                     [ 1.          3.         -0.75      ]\n",
    "                     [ 1.          4.         -2.75      ]\n",
    "                     [ 2.          0.         -0.5       ]\n",
    "                     [ 2.          2.         -1.5       ]\n",
    "                     [ 2.          3.          0.5       ]\n",
    "                     [ 2.          4.          1.5       ]\n",
    "                     [ 3.          0.         -1.33333333]\n",
    "                     [ 3.          1.         -1.33333333]\n",
    "                     [ 3.          3.          2.66666667]\n",
    "                     [ 4.          0.         -1.5       ]\n",
    "                     [ 4.          3.          1.5       ]\n",
    "                     [ 5.          1.          0.5       ]\n",
    "                     [ 5.          2.         -0.5       ]\n",
    "                     [ 6.          2.         -2.33333333]\n",
    "                     [ 6.          3.          0.66666667]\n",
    "                     [ 6.          4.          1.66666667]]\n",
    "                \n",
    "             Ybar = [[ 1.75        2.25       -0.5        -1.33333333 -1.5         0.         0.        ]\n",
    "                     [ 0.75        0.          0.         -1.33333333  0.          0.5        0.        ]\n",
    "                     [ 0.          1.25       -1.5         0.          0.         -0.5       -2.33333333]\n",
    "                     [-1.25       -0.75        0.5         2.66666667  1.5         0.         0.66666667]\n",
    "                     [-1.25       -2.75        1.5         0.          0.          0.         1.66666667]]\n",
    "        \"\"\"\n",
    "    \n",
    "    def similarity(self):\n",
    "        self.S = self.dist_func(self.Ybar.T,self.Ybar.T)\n",
    "    \n",
    "    def refresh(self):\n",
    "        self.normalize_Y()\n",
    "        self.similarity()\n",
    "    \n",
    "    def fit(self):\n",
    "        self.refresh()\n",
    "        \n",
    "    def __pred(self, u, i,normalized=1):\n",
    "        user_ids = np.where(self.Y_data[:, 1] == i)[0]\n",
    "        users_rated_i = (self.Y_data[user_ids, 0]).astype('int')\n",
    "        sim = self.S[u, users_rated_i]\n",
    "        a = np.argsort(sim)[-self.k:]\n",
    "        nearest_s = sim[a]\n",
    "        r = self.Ybar[i, users_rated_i[a]]\n",
    "        # r.shape = (1, 2)\n",
    "        if normalized:\n",
    "            return (r*nearest_s)[0]/(np.abs(nearest_s).sum() + 1e-8)\n",
    "        return (r*nearest_s)[0]/(np.abs(nearest_s).sum() + 1e-8) + self.mu[u]\n",
    "        \n",
    "    def pred(self, u, i, normalized=1):\n",
    "        if self.uuCF:\n",
    "            return self.__pred(u,i, normalized)\n",
    "        return self.__pred(i, u, normalized)\n",
    "    \n",
    "    def recommend(self, u, normalized = 1):\n",
    "        user_ids = np.where(self.Y_data[:, 0] == u)[0]\n",
    "        items_rated_by_u = self.Y_data[user_ids, 1].tolist()\n",
    "        recommended_items = []\n",
    "        for i in range(self.n_items):\n",
    "            if i not in items_rated_by_u:\n",
    "                ratings = self.__pred(u, i)\n",
    "                if ratings > 0:\n",
    "                    recommended_items.append(i)\n",
    "        return recommended_items\n",
    "    \n",
    "    def print_recommendation(self):\n",
    "        print('Recommendation:')\n",
    "        for u in range(self.n_users):\n",
    "            recommended_items = self.recommend(u)\n",
    "            if self.uuCF:\n",
    "                print('Recommend item(s):', recommended_items, 'to user', u)\n",
    "            else:\n",
    "                print('Recommend item', u, 'to user(s):', recommended_items)"
   ]
  },
  {
   "cell_type": "markdown",
   "id": "vocational-sally",
   "metadata": {},
   "source": [
    "# User-user CF"
   ]
  },
  {
   "cell_type": "code",
   "execution_count": 3,
   "id": "sought-interaction",
   "metadata": {},
   "outputs": [
    {
     "name": "stdout",
     "output_type": "stream",
     "text": [
      "Recommendation:\n",
      "Recommend item(s): [2] to user 0\n",
      "Recommend item(s): [1] to user 1\n",
      "Recommend item(s): [] to user 2\n",
      "Recommend item(s): [4] to user 3\n",
      "Recommend item(s): [4] to user 4\n",
      "Recommend item(s): [0, 3, 4] to user 5\n",
      "Recommend item(s): [1] to user 6\n"
     ]
    }
   ],
   "source": [
    "# Number of users: 7\n",
    "# Number of items: 5\n",
    "r_cols = ['user_id', 'item_id', 'rating']\n",
    "ratings = pd.read_csv('D:/HUST/AI/MLCB\\Code/12 - Neighborhood-based Collaborative Filtering/ex.dat', sep=' ', names=r_cols,\n",
    "                     encoding='latin-1')\n",
    "Y_data = ratings.values\n",
    "\n",
    "rs = CF(Y_data, k=2,uuCF=1)\n",
    "rs.fit()\n",
    "rs.print_recommendation()"
   ]
  },
  {
   "cell_type": "markdown",
   "id": "radio-manchester",
   "metadata": {},
   "source": [
    "# Item-item CF"
   ]
  },
  {
   "cell_type": "code",
   "execution_count": 4,
   "id": "neither-billy",
   "metadata": {},
   "outputs": [
    {
     "name": "stdout",
     "output_type": "stream",
     "text": [
      "Recommendation:\n",
      "Recommend item 0 to user(s): []\n",
      "Recommend item 1 to user(s): [1]\n",
      "Recommend item 2 to user(s): [0]\n",
      "Recommend item 3 to user(s): [5]\n",
      "Recommend item 4 to user(s): [3, 4, 5]\n"
     ]
    }
   ],
   "source": [
    "rs = CF(Y_data, k=2, uuCF=0)\n",
    "rs.fit()\n",
    "rs.print_recommendation()"
   ]
  },
  {
   "cell_type": "markdown",
   "id": "further-idaho",
   "metadata": {},
   "source": [
    "# MovieLens 100k"
   ]
  },
  {
   "cell_type": "code",
   "execution_count": 6,
   "id": "simplified-division",
   "metadata": {},
   "outputs": [
    {
     "name": "stdout",
     "output_type": "stream",
     "text": [
      "User-user CF: RMSE = 0.9951981100882598\n",
      "Item-item CF: RMSE = 0.9867912132705384\n"
     ]
    }
   ],
   "source": [
    "r_cols = ['user_id', 'movie_id', 'rating', 'unix_timestamp']\n",
    "\n",
    "ratings_base = pd.read_csv('D:/HUST/AI/Data sets/ml-100k/ub.base', sep='\\t', names=r_cols, encoding='latin-1')\n",
    "ratings_test = pd.read_csv('D:/HUST/AI/Data sets/ml-100k/ub.test', sep='\\t', names=r_cols, encoding='latin-1')\n",
    "\n",
    "rate_train = ratings_base.values\n",
    "rate_test = ratings_test.values\n",
    "\n",
    "# indices start from 0\n",
    "rate_train[:, :2] -= 1\n",
    "rate_test[:, :2] -= 1\n",
    "\n",
    "# User-user\n",
    "rs = CF(rate_train, k=30, uuCF=1)\n",
    "rs.fit()\n",
    "\n",
    "n_test = rate_test.shape[0]\n",
    "SE = 0\n",
    "for n in range(n_test):\n",
    "    pred = rs.pred(rate_test[n, 0], rate_test[n, 1], normalized=0)\n",
    "    SE += (pred - rate_test[n,2 ])**2\n",
    "RMSE = np.sqrt(SE/n_test)\n",
    "print(\"User-user CF: RMSE =\", RMSE)\n",
    "\n",
    "# Item-item\n",
    "rs = CF(rate_train, k = 30, uuCF = 0)\n",
    "rs.fit()\n",
    "\n",
    "n_tests = rate_test.shape[0]\n",
    "SE = 0\n",
    "for n in range(n_tests):\n",
    "    pred = rs.pred(rate_test[n, 0], rate_test[n, 1], normalized = 0)\n",
    "    SE += (pred - rate_test[n, 2])**2 \n",
    "\n",
    "RMSE = np.sqrt(SE/n_tests)\n",
    "print (\"Item-item CF: RMSE =\", RMSE)"
   ]
  }
 ],
 "metadata": {
  "kernelspec": {
   "display_name": "Python 3",
   "language": "python",
   "name": "python3"
  },
  "language_info": {
   "codemirror_mode": {
    "name": "ipython",
    "version": 3
   },
   "file_extension": ".py",
   "mimetype": "text/x-python",
   "name": "python",
   "nbconvert_exporter": "python",
   "pygments_lexer": "ipython3",
   "version": "3.6.8"
  }
 },
 "nbformat": 4,
 "nbformat_minor": 5
}
