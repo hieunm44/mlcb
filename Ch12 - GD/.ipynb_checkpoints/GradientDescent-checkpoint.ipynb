{
 "cells": [
  {
   "cell_type": "markdown",
   "id": "driven-person",
   "metadata": {},
   "source": [
    "# GD cho hàm một biến"
   ]
  },
  {
   "cell_type": "code",
   "execution_count": 1,
   "id": "conscious-skirt",
   "metadata": {},
   "outputs": [],
   "source": [
    "import numpy as np\n",
    "import ma"
   ]
  },
  {
   "cell_type": "code",
   "execution_count": 3,
   "id": "african-seeker",
   "metadata": {},
   "outputs": [],
   "source": [
    "def cost(x):\n",
    "    return x**2 + 5*np.sin(x)\n",
    "\n",
    "def grad(x):\n",
    "    return 2*x + 5*np.cos(x)\n",
    "\n",
    "def myGD1(x0, eta):\n",
    "    x = [x0]\n",
    "    for it in range(100):\n",
    "        x_new = x[-1] - eta*grad(x[-1])\n",
    "        if abs(grad(x_new)) < 1e-3:\n",
    "            break\n",
    "        x.append(x_new)\n",
    "    return x, it"
   ]
  },
  {
   "cell_type": "code",
   "execution_count": null,
   "id": "returning-criticism",
   "metadata": {},
   "outputs": [],
   "source": []
  }
 ],
 "metadata": {
  "kernelspec": {
   "display_name": "Python 3",
   "language": "python",
   "name": "python3"
  },
  "language_info": {
   "codemirror_mode": {
    "name": "ipython",
    "version": 3
   },
   "file_extension": ".py",
   "mimetype": "text/x-python",
   "name": "python",
   "nbconvert_exporter": "python",
   "pygments_lexer": "ipython3",
   "version": "3.6.8"
  }
 },
 "nbformat": 4,
 "nbformat_minor": 5
}
