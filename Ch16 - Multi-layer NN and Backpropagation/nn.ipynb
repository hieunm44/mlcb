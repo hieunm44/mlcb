{
 "cells": [
  {
   "cell_type": "code",
   "execution_count": 23,
   "id": "nearby-fifty",
   "metadata": {},
   "outputs": [],
   "source": [
    "import numpy as np\n",
    "import matplotlib.pyplot as plt\n",
    "import math\n",
    "from scipy import sparse"
   ]
  },
  {
   "cell_type": "code",
   "execution_count": 24,
   "id": "conditional-thanks",
   "metadata": {},
   "outputs": [
    {
     "data": {
      "image/png": "[encoded data removed]",
      "text/plain": [
       "<Figure size 432x288 with 1 Axes>"
      ]
     },
     "metadata": {
      "needs_background": "light"
     },
     "output_type": "display_data"
    }
   ],
   "source": [
    "N = 100\n",
    "d0 = 2\n",
    "C = 3\n",
    "X = np.zeros((N*C, d0))\n",
    "y = np.zeros(N*C, dtype='uint8')\n",
    "\n",
    "for j in range(C):\n",
    "    ix = range(N*j, N*(j + 1))\n",
    "    r = np.linspace(0, 1, N)\n",
    "    theta = np.linspace(j*4, (j + 1)*4, N) + np.random.randn(N)*0.2\n",
    "    X[ix, :] = np.c_[r*np.sin(theta), r*np.cos(theta)]\n",
    "    y[ix] = j\n",
    "\n",
    "plt.plot(X[:N, 0], X[:N, 1], 'bs', alpha=0.5);\n",
    "plt.plot(X[N:2*N, 0], X[N:2*N, 1], 'ro', alpha=0.5);\n",
    "plt.plot(X[2*N:, 0], X[2*N:, 1], 'g^', alpha=0.5);\n",
    "plt.show()"
   ]
  },
  {
   "cell_type": "code",
   "execution_count": 39,
   "id": "productive-elephant",
   "metadata": {},
   "outputs": [
    {
     "name": "stdout",
     "output_type": "stream",
     "text": [
      "Iter 0, loss: 1.098705\n",
      "Iter 1000, loss: 0.033745\n",
      "Iter 2000, loss: 0.025164\n",
      "Iter 3000, loss: 0.021354\n",
      "Iter 4000, loss: 0.019087\n",
      "Iter 5000, loss: 0.018097\n",
      "Iter 6000, loss: 0.017585\n",
      "Iter 7000, loss: 0.017033\n",
      "Iter 8000, loss: 0.016520\n",
      "Iter 9000, loss: 0.015437\n",
      "Accuracy: 99.333333 %\n",
      "Number of misclassified points: 2\n"
     ]
    }
   ],
   "source": [
    "def softmax_stable(Z):\n",
    "    # Z.shape(N, d_l)\n",
    "    e_Z = np.exp(Z - np.amax(Z, axis=1, keepdims=True))\n",
    "    A = e_Z/np.sum(e_Z, axis=1, keepdims=True)\n",
    "    return A\n",
    "    \n",
    "def convert_labels(y, C):\n",
    "    \"\"\"\"\n",
    "    Chuyển ma trận nhãn từ dạng số sang dạng one-hot\n",
    "    VD: y = [0, 2, 1, 0]\n",
    "    -> y = [[1, 0, 0],\n",
    "            [0, 0, 1],\n",
    "            [0, 1, 0],\n",
    "            [1, 0, 0]]\n",
    "    \"\"\"\n",
    "    Y = sparse.coo_matrix((np.ones_like(y), (np.arange(len(y)), y)), shape=(len(y), C)).toarray()\n",
    "    return Y\n",
    "\n",
    "def cost(Y, Yhat):\n",
    "    # Y.shape = (N, C)\n",
    "    return -np.sum(Y*np.log(Yhat))/Y.shape[0]\n",
    "\n",
    "d0 = 2\n",
    "d1 = 100\n",
    "d2 = 3\n",
    "\n",
    "W1 = 0.01*np.random.randn(d0, d1)\n",
    "b1 = np.zeros((1, d1))\n",
    "W2 = 0.01*np.random.randn(d1, d2)\n",
    "b2 = np.zeros((1, d2))\n",
    "\n",
    "Y = convert_labels(y, d2)\n",
    "eta = 1\n",
    "\n",
    "for i in range(10000):\n",
    "    # Feedforward\n",
    "    Z1 = X.dot(W1) + b1\n",
    "    A1 = np.maximum(Z1, 0) # ReLU\n",
    "    Z2 = A1.dot(W2) + b2\n",
    "    A2 = softmax_stable(Z2)\n",
    "    \n",
    "    # Print loss after each 1000 iterations\n",
    "    if i %1000 == 0:\n",
    "        loss = cost(Y, A2)\n",
    "        print(\"Iter %d, loss: %f\" %(i, loss))\n",
    "    \n",
    "    # Backpropagation\n",
    "    E2 = (A2 - Y)/N\n",
    "    dW2 = A1.T.dot(E2)\n",
    "    db2 = np.sum(E2, axis=0, keepdims=True)\n",
    "    E1 = E2.dot(W2.T)\n",
    "    E1[Z1 <=0] = 0 # Gradient of ReLU\n",
    "    dW1 = X.T.dot(E1)\n",
    "    db1 = np.sum(E1, axis=0, keepdims=True)\n",
    "    \n",
    "    # Update\n",
    "    W1 -= eta*dW1\n",
    "    b1 -= eta*db1\n",
    "    W2 -= eta*dW2\n",
    "    b2 -= eta*db2\n",
    "    \n",
    "    Z1 = X.dot(W1) + b1\n",
    "    A1 = np.maximum(Z1, 0)\n",
    "    Z2 = A1.dot(W2) +b2\n",
    "    y_pred = np.argmax(Z2, axis=1)\n",
    "\n",
    "print('Accuracy: %f %%' %(100*np.mean(y_pred == y)))\n",
    "print('Number of misclassified points:', len(y) - np.sum(y_pred ==y))"
   ]
  },
  {
   "cell_type": "code",
   "execution_count": 57,
   "id": "false-asian",
   "metadata": {},
   "outputs": [
    {
     "name": "stdout",
     "output_type": "stream",
     "text": [
      "Accuracy: 99.333333 %\n"
     ]
    },
    {
     "name": "stderr",
     "output_type": "stream",
     "text": [
      "c:\\users\\httev\\appdata\\local\\programs\\python\\python36\\lib\\site-packages\\sklearn\\neural_network\\_multilayer_perceptron.py:500: ConvergenceWarning: lbfgs failed to converge (status=1):\n",
      "STOP: TOTAL NO. of ITERATIONS REACHED LIMIT.\n",
      "\n",
      "Increase the number of iterations (max_iter) or scale the data as shown in:\n",
      "    https://scikit-learn.org/stable/modules/preprocessing.html\n",
      "  self.n_iter_ = _check_optimize_result(\"lbfgs\", opt_res, self.max_iter)\n"
     ]
    }
   ],
   "source": [
    "# Sklearn\n",
    "from sklearn.neural_network import MLPClassifier\n",
    "clf = MLPClassifier(solver='lbfgs', alpha= 0.1, hidden_layer_sizes=(100))\n",
    "clf.fit(X, y)\n",
    "y_pred = clf.predict(X)\n",
    "print('Accuracy: %f %%' %(100*np.mean(y_pred == y)))"
   ]
  }
 ],
 "metadata": {
  "kernelspec": {
   "display_name": "Python 3",
   "language": "python",
   "name": "python3"
  },
  "language_info": {
   "codemirror_mode": {
    "name": "ipython",
    "version": 3
   },
   "file_extension": ".py",
   "mimetype": "text/x-python",
   "name": "python",
   "nbconvert_exporter": "python",
   "pygments_lexer": "ipython3",
   "version": "3.6.8"
  }
 },
 "nbformat": 4,
 "nbformat_minor": 5
}
