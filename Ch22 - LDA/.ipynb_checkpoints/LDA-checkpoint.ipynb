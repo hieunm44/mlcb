{
 "cells": [
  {
   "cell_type": "code",
   "execution_count": 12,
   "id": "thousand-measure",
   "metadata": {},
   "outputs": [],
   "source": [
    "import numpy as np\n",
    "import matplotlib.pyplot as plt\n",
    "from sklearn.discriminant_analysis import LinearDiscriminantAnalysis\n",
    "np.random.seed(22)"
   ]
  },
  {
   "cell_type": "code",
   "execution_count": 13,
   "id": "fifteen-constraint",
   "metadata": {},
   "outputs": [
    {
     "name": "stdout",
     "output_type": "stream",
     "text": [
      "w1 = [ 0.75091074 -0.66040371]\n",
      "w2 = [[ 0.75091074 -0.66040371]]\n"
     ]
    }
   ],
   "source": [
    "means =[[0, 5], [5, 0]]\n",
    "cov0 = [[4, 3], [3, 4]]\n",
    "cov1 = [[3, 1], [1, 1]]\n",
    "N0 = 50\n",
    "N1 = 40\n",
    "N = N0 + N1\n",
    "X0 = np.random.multivariate_normal(means[0], cov0, N0)\n",
    "X1 = np.random.multivariate_normal(means[1], cov1, N1)\n",
    "\n",
    "# Build S_B\n",
    "m0 = np.mean(X0.T, axis=1, keepdims=True)\n",
    "m1 = np.mean(X1.T, axis=1, keepdims=True)\n",
    "a = m0 - m1\n",
    "S_B = a.dot(a.T)\n",
    "\n",
    "# Build S_W\n",
    "A = X0.T - np.tile(m0, (1, N0))\n",
    "B = X1.T - np.tile(m1, (1, N1))\n",
    "\n",
    "S_W = A.dot(A.T) + B.dot(B.T)\n",
    "\n",
    "_, W = np.linalg.eig(np.linalg.inv(S_W).dot(S_B))\n",
    "w1 = W[:, 0]\n",
    "print('w1 =',w1)\n",
    "\n",
    "X = np.concatenate((X0, X1))\n",
    "y = np.array([0]*N0 + [1]*N1)\n",
    "clf = LinearDiscriminantAnalysis()\n",
    "clf.fit(X, y)\n",
    "w2 = clf.coef_/np.linalg.norm(clf.coef_)\n",
    "print('w2 =', w2)"
   ]
  }
 ],
 "metadata": {
  "kernelspec": {
   "display_name": "Python 3",
   "language": "python",
   "name": "python3"
  },
  "language_info": {
   "codemirror_mode": {
    "name": "ipython",
    "version": 3
   },
   "file_extension": ".py",
   "mimetype": "text/x-python",
   "name": "python",
   "nbconvert_exporter": "python",
   "pygments_lexer": "ipython3",
   "version": "3.6.8"
  }
 },
 "nbformat": 4,
 "nbformat_minor": 5
}
