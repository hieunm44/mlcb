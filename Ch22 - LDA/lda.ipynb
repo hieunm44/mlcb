{
 "cells": [
  {
   "cell_type": "code",
   "execution_count": 2,
   "source": [
    "import numpy as np\n",
    "import matplotlib.pyplot as plt\n",
    "from sklearn.discriminant_analysis import LinearDiscriminantAnalysis\n",
    "np.random.seed(22)"
   ],
   "outputs": [],
   "metadata": {}
  },
  {
   "cell_type": "code",
   "execution_count": 3,
   "source": [
    "means = [[0, 5], [5, 0]]\n",
    "cov0 = [[4, 3], [3, 4]]\n",
    "cov1 = [[3, 1], [1, 1]]\n",
    "N0 = 50\n",
    "N1 = 40\n",
    "N = N0 + N1\n",
    "X0 = np.random.multivariate_normal(means[0], cov0, N0) # shape = (50, 2)\n",
    "X1 = np.random.multivariate_normal(means[1], cov1, N1) # shape = (40, 2)\n",
    "\n",
    "plt.plot(X0[:, 0], X0[:, 1], 'bs', label='class 1')\n",
    "plt.plot(X1[:, 0], X1[:, 1], 'ro', label='class 2')\n",
    "plt.legend()\n",
    "plt.show()"
   ],
   "outputs": [
    {
     "output_type": "display_data",
     "data": {
      "image/png": "[encoded data removed]",
      "text/plain": [
       "<Figure size 432x288 with 1 Axes>"
      ]
     },
     "metadata": {
      "needs_background": "light"
     }
    }
   ],
   "metadata": {}
  },
  {
   "cell_type": "code",
   "execution_count": 5,
   "source": [
    "# build S_B\n",
    "m0 = np.mean(X0.T, axis=1, keepdims=True)\n",
    "m1 = np.mean(X1.T, axis=1, keepdims=True)\n",
    "a = m0 - m1\n",
    "S_B = a.dot(a.T) # shape = (2, 2)\n",
    "\n",
    "# build S_W\n",
    "A = X0.T - np.tile(m0, (1, N0))\n",
    "B = X1.T - np.tile(m1, (1, N1))\n",
    "\n",
    "S_W = A.dot(A.T) + B.dot(B.T) # shape = (2, 2)\n",
    "\n",
    "# solution found by formula\n",
    "_, W = np.linalg.eig(np.linalg.inv(S_W).dot(S_B)) # shape = (2, 2)\n",
    "w1 = W[:, 0]\n",
    "print('w1 =',w1)"
   ],
   "outputs": [
    {
     "output_type": "stream",
     "name": "stdout",
     "text": [
      "w1 = [ 0.75091074 -0.66040371]\n"
     ]
    }
   ],
   "metadata": {}
  },
  {
   "cell_type": "code",
   "execution_count": 7,
   "source": [
    "# solution found by sklearn\n",
    "X = np.concatenate((X0, X1), axis=0)\n",
    "y = np.array([0]*N0 + [1]*N1)\n",
    "\n",
    "clf = LinearDiscriminantAnalysis()\n",
    "clf.fit(X, y)\n",
    "w2 = clf.coef_/np.linalg.norm(clf.coef_)\n",
    "print('w2 =', w2)"
   ],
   "outputs": [
    {
     "output_type": "stream",
     "name": "stdout",
     "text": [
      "w2 = [[ 0.75091074 -0.66040371]]\n"
     ]
    }
   ],
   "metadata": {}
  }
 ],
 "metadata": {
  "kernelspec": {
   "name": "python3",
   "display_name": "Python 3.9.5 64-bit"
  },
  "language_info": {
   "codemirror_mode": {
    "name": "ipython",
    "version": 3
   },
   "file_extension": ".py",
   "mimetype": "text/x-python",
   "name": "python",
   "nbconvert_exporter": "python",
   "pygments_lexer": "ipython3",
   "version": "3.9.5"
  },
  "interpreter": {
   "hash": "916dbcbb3f70747c44a77c7bcd40155683ae19c65e1c03b4aa3499c5328201f1"
  }
 },
 "nbformat": 4,
 "nbformat_minor": 5
}