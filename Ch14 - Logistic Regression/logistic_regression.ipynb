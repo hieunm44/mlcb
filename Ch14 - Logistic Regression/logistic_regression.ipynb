{
 "cells": [
  {
   "cell_type": "code",
   "execution_count": 1,
   "id": "earned-kentucky",
   "metadata": {},
   "outputs": [],
   "source": [
    "import numpy as np\n",
    "import matplotlib.pyplot as plt"
   ]
  },
  {
   "cell_type": "code",
   "execution_count": 2,
   "id": "neural-writer",
   "metadata": {},
   "outputs": [
    {
     "data": {
      "image/png": "[encoded data removed]",
      "text/plain": [
       "<Figure size 432x288 with 1 Axes>"
      ]
     },
     "metadata": {
      "needs_background": "light"
     },
     "output_type": "display_data"
    }
   ],
   "source": [
    "def sigmoid(s):\n",
    "    return 1/(1 + np.exp(-s))\n",
    "\n",
    "def logistic_regression(X, y, w_init, eta):\n",
    "    N = X.shape[0]\n",
    "    d = X.shape[1]\n",
    "    w = [w_init]\n",
    "    count = 0\n",
    "    while count < 10000:\n",
    "        mix_id = np.random.permutation(N)\n",
    "        for i in mix_id:\n",
    "            xi = X[i, :]\n",
    "            yi = y[i]\n",
    "            w_new = w[-1] - eta*(sigmoid(xi.dot(w[-1])) - yi)*xi\n",
    "            count += 1\n",
    "            if np.linalg.norm(w_new - w[-1]) < 1e-4:\n",
    "                return w\n",
    "            w.append(w_new)\n",
    "    return w\n",
    "\n",
    "\n",
    "X = np.array([[0.50, 0.75, 1.00, 1.25, 1.50, 1.75, 1.75, 2.00, 2.25, 2.50, \n",
    "              2.75, 3.00, 3.25, 3.50, 4.00, 4.25, 4.50, 4.75, 5.00, 5.50]]).T\n",
    "y = np.array([0, 0, 0, 0, 0, 0, 1, 0, 1, 0, 1, 0, 1, 0, 1, 1, 1, 1, 1, 1]).T\n",
    "Xbar = np.concatenate((np.ones((X.shape[0], 1)), X), axis=1)\n",
    "\n",
    "w_init = np.random.rand(Xbar.shape[1])\n",
    "w = logistic_regression(Xbar, y, w_init, 0.05)\n",
    "\n",
    "plt.plot(X[np.where(y==0)], y[np.where(y==0)], 'ro')\n",
    "plt.plot(X[np.where(y==1)], y[np.where(y==1)], 'bs')\n",
    "x_plot = np.linspace(0, 6, 100)\n",
    "y_plot = sigmoid(w[-1][1]*x_plot + w[-1][0])\n",
    "plt.plot(x_plot, y_plot, 'k')\n",
    "plt.show()"
   ]
  },
  {
   "cell_type": "code",
   "execution_count": null,
   "id": "quarterly-parameter",
   "metadata": {},
   "outputs": [],
   "source": [
    "\n",
    "\n",
    "\n",
    "\n",
    "\n",
    "\n",
    "\n",
    "\n",
    "\n",
    "\n",
    "\n",
    "\n",
    "\n",
    "\n",
    "\n",
    "\n",
    "\n",
    "\n",
    "\n",
    "\n",
    "\n",
    "\n",
    "\n",
    "\n",
    "\n",
    "\n",
    "\n",
    "\n",
    "\n",
    "\n",
    "\n"
   ]
  }
 ],
 "metadata": {
  "kernelspec": {
   "display_name": "Python 3",
   "language": "python",
   "name": "python3"
  },
  "language_info": {
   "codemirror_mode": {
    "name": "ipython",
    "version": 3
   },
   "file_extension": ".py",
   "mimetype": "text/x-python",
   "name": "python",
   "nbconvert_exporter": "python",
   "pygments_lexer": "ipython3",
   "version": "3.6.8"
  }
 },
 "nbformat": 4,
 "nbformat_minor": 5
}
