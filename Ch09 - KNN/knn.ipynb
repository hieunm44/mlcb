{
 "cells": [
  {
   "cell_type": "markdown",
   "metadata": {},
   "source": [
    "# Tính khoảng cách"
   ]
  },
  {
   "cell_type": "markdown",
   "metadata": {},
   "source": [
    "## Setup"
   ]
  },
  {
   "cell_type": "code",
   "execution_count": 1,
   "metadata": {},
   "outputs": [],
   "source": [
    "import numpy as np\n",
    "from time import time"
   ]
  },
  {
   "cell_type": "markdown",
   "metadata": {},
   "source": [
    "## Khoảng cách từ một điểm tới từng điểm trong một tập hợp"
   ]
  },
  {
   "cell_type": "code",
   "execution_count": 7,
   "metadata": {},
   "outputs": [
    {
     "name": "stdout",
     "output_type": "stream",
     "text": [
      "Naive point2set, running time: 0.12997221946716309 s\n",
      "Fast point2set, running time: 0.05001544952392578 s\n",
      "Result difference: 2.2936583651096028e-11\n"
     ]
    }
   ],
   "source": [
    "d = 1000\n",
    "N = 10000\n",
    "X = np.random.randn(N, d)\n",
    "z = np.random.randn(d)\n",
    "\n",
    "def dist_pp(z, x):\n",
    "    return np.sum((z - x)**2)\n",
    "\n",
    "def dist_ps_naive(z, X):\n",
    "    res = np.zeros((X.shape[0]))\n",
    "    for i in range(X.shape[0]):\n",
    "        res[i] = dist_pp(z, X[i])\n",
    "    return res\n",
    "\n",
    "def dist_ps_fast(z, X):\n",
    "    X2 = np.sum(X*X, axis=1)\n",
    "    z2 = np.sum(z*z)\n",
    "    return X2 + z2 - 2*X.dot(z)\n",
    "\n",
    "t1 = time()\n",
    "D1 = dist_ps_naive(z, X)\n",
    "print('Naive point2set, running time:', time() - t1, 's')\n",
    "\n",
    "t2 = time()\n",
    "D2 = dist_ps_fast(z, X)\n",
    "print('Fast point2set, running time:', time() - t2, 's')\n",
    "print('Result difference:', np.linalg.norm(D1 - D2))"
   ]
  },
  {
   "cell_type": "markdown",
   "metadata": {},
   "source": [
    "## Khoảng cách giữa từng cặp điểm trong hai tập hợp"
   ]
  },
  {
   "cell_type": "code",
   "execution_count": 11,
   "metadata": {},
   "outputs": [
    {
     "name": "stdout",
     "output_type": "stream",
     "text": [
      "Half fast set2set running time: 6.878211259841919 s\n",
      "Fast set2set running time: 0.17335176467895508 s\n",
      "Result difference: 9.597350996352788e-11\n"
     ]
    }
   ],
   "source": [
    "Z = np.random.randn(100, d)\n",
    "\n",
    "def dist_ss_half_fast(Z, X):\n",
    "    res = np.zeros((Z.shape[0], X.shape[0]))\n",
    "    for i in range(Z.shape[0]):\n",
    "        res[i] = dist_ps_fast(Z[i], X)\n",
    "    return res\n",
    "\n",
    "def dist_ss_fast(Z, X):\n",
    "    X2 = np.sum(X*X, axis=1)\n",
    "    Z2 = np.sum(Z*Z, axis=1)\n",
    "    return Z2.reshape(-1, 1) + X2.reshape(1, -1) - 2*Z.dot(X.T)\n",
    "\n",
    "t3 = time()\n",
    "D3 = dist_ss_half_fast(Z, X)\n",
    "print('Half fast set2set running time:', time() - t3, 's')\n",
    "\n",
    "t4 = time()\n",
    "D4 = dist_ss_fast(Z, X)\n",
    "print('Fast set2set running time:', time() - t4, 's')\n",
    "print('Result difference:', np.linalg.norm(D3 - D4))"
   ]
  },
  {
   "cell_type": "markdown",
   "metadata": {},
   "source": [
    "# Iris"
   ]
  },
  {
   "cell_type": "code",
   "execution_count": 23,
   "metadata": {},
   "outputs": [
    {
     "name": "stdout",
     "output_type": "stream",
     "text": [
      "Accuracy of 1NN: 92.3076923076923 %\n",
      "Accuracy of 7NN: 93.84615384615384 %\n",
      "Accuracy of 7NN (1/distance weights): 94.61538461538461 %\n",
      "Accuracy of 7NN (customized weights): 95.38461538461539 %\n"
     ]
    }
   ],
   "source": [
    "import numpy as np\n",
    "from sklearn import neighbors, datasets\n",
    "from sklearn.model_selection import train_test_split\n",
    "from sklearn.metrics import accuracy_score\n",
    "np.random.seed(7)\n",
    "\n",
    "iris = datasets.load_iris()\n",
    "iris_X = iris.data\n",
    "iris_y = iris.target\n",
    "\n",
    "X_train, X_test, y_train, y_test = train_test_split(iris_X, iris_y, test_size=130)\n",
    "\n",
    "# 1NN\n",
    "model = neighbors.KNeighborsClassifier(n_neighbors=1, p=2) # p=2: l2 norm\n",
    "model.fit(X_train, y_train)\n",
    "y_pred = model.predict(X_test)\n",
    "print('Accuracy of 1NN:', 100*accuracy_score(y_test, y_pred), '%')\n",
    "\n",
    "# 7NN\n",
    "model = neighbors.KNeighborsClassifier(n_neighbors=7, p=2)\n",
    "model.fit(X_train, y_train)\n",
    "y_pred = model.predict(X_test)\n",
    "print('Accuracy of 7NN:', 100*accuracy_score(y_test, y_pred), '%')\n",
    "\n",
    "# 7NN & weights\n",
    "model = neighbors.KNeighborsClassifier(n_neighbors=7, p=2, weights='distance')\n",
    "model.fit(X_train, y_train)\n",
    "y_pred = model.predict(X_test)\n",
    "print('Accuracy of 7NN (1/distance weights):', 100*accuracy_score(y_test, y_pred), '%')\n",
    "\n",
    "def myweights(distances):\n",
    "    sigma2 = 0.4\n",
    "    return np.exp(-distances**2/sigma2)\n",
    "\n",
    "# 7NN & customized weights\n",
    "model = neighbors.KNeighborsClassifier(n_neighbors=7, p=2, weights=myweights)\n",
    "model.fit(X_train, y_train)\n",
    "y_pred = model.predict(X_test)\n",
    "print('Accuracy of 7NN (customized weights):', 100*accuracy_score(y_test, y_pred), '%')"
   ]
  },
  {
   "cell_type": "code",
   "execution_count": null,
   "metadata": {},
   "outputs": [],
   "source": [
    "\n",
    "\n",
    "\n",
    "\n",
    "\n",
    "\n",
    "\n",
    "\n",
    "\n",
    "\n",
    "\n",
    "\n",
    "\n",
    "\n",
    "\n",
    "\n",
    "\n",
    "\n",
    "\n",
    "\n",
    "\n",
    "\n",
    "\n",
    "\n",
    "\n"
   ]
  }
 ],
 "metadata": {
  "kernelspec": {
   "display_name": "Python 3",
   "language": "python",
   "name": "python3"
  },
  "language_info": {
   "codemirror_mode": {
    "name": "ipython",
    "version": 3
   },
   "file_extension": ".py",
   "mimetype": "text/x-python",
   "name": "python",
   "nbconvert_exporter": "python",
   "pygments_lexer": "ipython3",
   "version": "3.6.8"
  }
 },
 "nbformat": 4,
 "nbformat_minor": 4
}
