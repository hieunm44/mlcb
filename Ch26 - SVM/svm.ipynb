{
 "cells": [
  {
   "cell_type": "code",
   "execution_count": 3,
   "source": [
    "import numpy as np\n",
    "import matplotlib.pyplot as plt\n",
    "from cvxopt import matrix, solvers\n",
    "from cvxopt import matrix, solvers\n",
    "from sklearn.svm import SVC\n",
    "np.random.seed(22)"
   ],
   "outputs": [],
   "metadata": {}
  },
  {
   "cell_type": "code",
   "execution_count": 8,
   "source": [
    "means = [[2, 2], [4, 2]]\n",
    "cov = [[0.3, 0.2], [0.2, 0.3]]\n",
    "N = 10\n",
    "X0 = np.random.multivariate_normal(means[0], cov, N) # class 1\n",
    "X1 = np.random.multivariate_normal(means[1], cov, N) # class -1\n",
    "X = np.concatenate((X0.T, X1.T), axis = 1)\n",
    "y = np.concatenate((np.ones((1, N)), -1*np.ones((1, N))), axis=1)\n",
    "\n",
    "V = np.concatenate((X0.T, -X1.T), axis=1) # V = [y1x1, y2x2,..., yNxN]\n",
    "K = matrix(V.T.dot(V))\n",
    "\n",
    "p = matrix(-np.ones((2*N, 1)))\n",
    "\n",
    "# Gx <= h -> all lambda_n >= 0\n",
    "G = matrix(-np.eye(2*N)) # for constraint: all lambda_n >= 0\n",
    "h = matrix(np.zeros((2*N, 1)))\n",
    "\n",
    "# Ax = b -> y.T.lambda = 0\n",
    "A = matrix(y)\n",
    "b = matrix(np.zeros((1, 1))) \n",
    "\n",
    "solvers.options['show_progress'] = False\n",
    "sol = solvers.qp(K, p, G, h, A, b)\n",
    "\n",
    "l = np.array(sol['x']) # shape = (1, 20)\n",
    "print('lambda = ')\n",
    "print(l)"
   ],
   "outputs": [
    {
     "output_type": "stream",
     "name": "stdout",
     "text": [
      "lambda = \n",
      "[[1.04130614e-08]\n",
      " [9.74746708e-10]\n",
      " [1.77635867e-08]\n",
      " [7.29823960e-10]\n",
      " [1.00416517e-09]\n",
      " [1.86476113e+00]\n",
      " [1.53782292e-09]\n",
      " [3.65447033e-10]\n",
      " [1.34022220e+00]\n",
      " [1.84200296e-09]\n",
      " [1.16781859e-08]\n",
      " [8.08401932e-09]\n",
      " [6.76831807e-10]\n",
      " [4.85763154e-09]\n",
      " [1.75297620e-09]\n",
      " [2.25334781e-09]\n",
      " [1.40981305e-09]\n",
      " [3.97871130e-09]\n",
      " [3.20498331e+00]\n",
      " [2.24245570e-08]]\n"
     ]
    }
   ],
   "metadata": {}
  },
  {
   "cell_type": "code",
   "execution_count": 7,
   "source": [
    "epsilon = 1e-6\n",
    "S = np.where(l > epsilon)[0]\n",
    "\n",
    "VS = V[:, S]\n",
    "XS = X[:, S]\n",
    "yS = y[:, S]\n",
    "lS = l[S]\n",
    "\n",
    "# solution found by theory\n",
    "w1 = VS.dot(lS)\n",
    "b1 = np.mean(yS.T - w1.T.dot(XS))\n",
    "\n",
    "print('w =', w1)\n",
    "print('b =', b1)\n",
    "\n",
    "# solution found by sklearn\n",
    "y1 = y.reshape((2*N,))\n",
    "X1 = X.T\n",
    "clf =SVC(kernel = 'linear', C=1e5)\n",
    "clf.fit(X1, y1)\n",
    "\n",
    "w2 = clf.coef_\n",
    "b2= clf.intercept_\n",
    "\n",
    "print('w =', w2)\n",
    "print('b =', b2)"
   ],
   "outputs": [
    {
     "output_type": "stream",
     "name": "stdout",
     "text": [
      "w = [[-2.31901325]\n",
      " [ 1.94358214]]\n",
      "b = 3.733665551033308\n",
      "w = [[-2.31901718  1.94358529]]\n",
      "b = [3.7336714]\n"
     ]
    }
   ],
   "metadata": {}
  },
  {
   "cell_type": "code",
   "execution_count": 21,
   "source": [
    "means = [[2, 2], [4, 2]]\n",
    "cov = [[0.3, 0.2], [0.2, 0.3]]\n",
    "N = 10\n",
    "X0 = np.random.multivariate_normal(means[0], cov, N) # class 1\n",
    "X1 = np.random.multivariate_normal(means[1], cov, N) # class -1\n",
    "X = np.concatenate((X0, X1), axis = 0)\n",
    "y = np.concatenate((np.ones((N)), -1*np.ones((N))), axis=0)\n",
    "\n",
    "clf = SVC(kernel = 'linear', C=1e5)\n",
    "clf.fit(X, y)\n",
    "\n",
    "w = clf.coef_\n",
    "b = clf.intercept_\n",
    "\n",
    "plt.plot(X0[:, 0], X0[:, 1], 'bs', label='class 1')\n",
    "plt.plot(X1[:, 0], X1[:, 1], 'ro', label='class 2')\n",
    "plt.legend()\n",
    "\n",
    "x1 = np.array([1, 5])\n",
    "y1 = -w[0, 0]/w[0, 1]*x1 - b/w[0, 1]\n",
    "y2 = -w[0, 0]/w[0, 1]*x1 - (b-1)/w[0, 1]\n",
    "y3 = -w[0, 0]/w[0, 1]*x1 - (b+1)/w[0, 1]\n",
    "plt.plot(x1, y1, 'k', linewidth = 3)\n",
    "plt.plot(x1, y2, 'b')\n",
    "plt.plot(x1, y3, 'r')\n",
    "\n",
    "plt.show()"
   ],
   "outputs": [
    {
     "output_type": "display_data",
     "data": {
      "image/png": "[encoded data removed]",
      "text/plain": [
       "<Figure size 432x288 with 1 Axes>"
      ]
     },
     "metadata": {
      "needs_background": "light"
     }
    }
   ],
   "metadata": {}
  }
 ],
 "metadata": {
  "orig_nbformat": 4,
  "language_info": {
   "name": "python",
   "version": "3.9.5",
   "mimetype": "text/x-python",
   "codemirror_mode": {
    "name": "ipython",
    "version": 3
   },
   "pygments_lexer": "ipython3",
   "nbconvert_exporter": "python",
   "file_extension": ".py"
  },
  "kernelspec": {
   "name": "python3",
   "display_name": "Python 3.9.5 64-bit"
  },
  "interpreter": {
   "hash": "916dbcbb3f70747c44a77c7bcd40155683ae19c65e1c03b4aa3499c5328201f1"
  }
 },
 "nbformat": 4,
 "nbformat_minor": 2
}