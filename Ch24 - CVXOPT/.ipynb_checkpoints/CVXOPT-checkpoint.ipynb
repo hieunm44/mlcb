{
 "cells": [
  {
   "cell_type": "markdown",
   "id": "pharmaceutical-asthma",
   "metadata": {},
   "source": [
    "# Linear Programming"
   ]
  },
  {
   "cell_type": "code",
   "execution_count": 5,
   "id": "lightweight-humanity",
   "metadata": {},
   "outputs": [
    {
     "name": "stdout",
     "output_type": "stream",
     "text": [
      "Solution:\n",
      "[ 6.00e+00]\n",
      "[ 4.00e+00]\n",
      "\n"
     ]
    }
   ],
   "source": [
    "from cvxopt import matrix, solvers\n",
    "\n",
    "c = matrix([-5., -3.])\n",
    "G = matrix([[1., 2., 1., -1., 0.], [1., 1., 3., 0., -1.]])\n",
    "h = matrix([10., 16., 32., 0., 0.])\n",
    "\n",
    "solvers.options['show_progress'] = False\n",
    "sol = solvers.lp(c, G, h)\n",
    "print('Solution:')\n",
    "print(sol['x'])"
   ]
  },
  {
   "cell_type": "markdown",
   "id": "legitimate-juice",
   "metadata": {},
   "source": [
    "# Quadratic Programming"
   ]
  },
  {
   "cell_type": "code",
   "execution_count": 7,
   "id": "convertible-guess",
   "metadata": {},
   "outputs": [
    {
     "name": "stdout",
     "output_type": "stream",
     "text": [
      "Solution:\n",
      "[ 5.00e+00]\n",
      "[ 5.00e+00]\n",
      "\n"
     ]
    }
   ],
   "source": [
    "from cvxopt import matrix, solvers\n",
    "\n",
    "P = matrix([[1., 0.], [0., 1.]])\n",
    "q = matrix([-10., -10.])\n",
    "G = matrix([[1., 2., 1., -1., 0.], [1., 1., 4., 0., -1.]])\n",
    "h = matrix([10., 16., 32., 0., 0.])\n",
    "\n",
    "solvers.options['show_progress'] = False\n",
    "sol = solvers.qp(P, q, G, h)\n",
    "print('Solution:')\n",
    "print(sol['x'])"
   ]
  },
  {
   "cell_type": "markdown",
   "id": "electric-copper",
   "metadata": {},
   "source": [
    "# Geometric Programming"
   ]
  },
  {
   "cell_type": "code",
   "execution_count": 9,
   "id": "assigned-prophet",
   "metadata": {},
   "outputs": [
    {
     "name": "stdout",
     "output_type": "stream",
     "text": [
      "Solution:\n",
      "[[1.58489319]\n",
      " [1.58489319]\n",
      " [1.58489319]]\n",
      "sol^5 =\n",
      " [[9.9999998]\n",
      " [9.9999998]\n",
      " [9.9999998]]\n"
     ]
    }
   ],
   "source": [
    "from cvxopt import matrix, solvers\n",
    "from math import log, exp\n",
    "import numpy as np\n",
    "\n",
    "K = [4] # Number of monomials\n",
    "F = matrix([[-1., 1., 1., 0.],\n",
    "            [-1., 1., 0., 1.],\n",
    "            [-1., 0., 1., 1.]])\n",
    "g = matrix([log(40.), log(2.), log(2.), log(2,)])\n",
    "# solvers.options['show_progress'] = False\n",
    "sol = solvers.gp(K, F, g)\n",
    "\n",
    "print('Solution:')\n",
    "print(np.exp(np.array(sol['x'])))\n",
    "print('sol^5 =\\n', np.exp(np.array(sol['x']))**5)"
   ]
  }
 ],
 "metadata": {
  "kernelspec": {
   "display_name": "Python 3",
   "language": "python",
   "name": "python3"
  },
  "language_info": {
   "codemirror_mode": {
    "name": "ipython",
    "version": 3
   },
   "file_extension": ".py",
   "mimetype": "text/x-python",
   "name": "python",
   "nbconvert_exporter": "python",
   "pygments_lexer": "ipython3",
   "version": "3.6.8"
  }
 },
 "nbformat": 4,
 "nbformat_minor": 5
}
