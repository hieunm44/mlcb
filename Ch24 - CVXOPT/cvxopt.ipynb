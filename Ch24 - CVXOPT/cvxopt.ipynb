{
 "cells": [
  {
   "cell_type": "markdown",
   "source": [
    "# Linear Programming"
   ],
   "metadata": {}
  },
  {
   "cell_type": "code",
   "execution_count": 3,
   "source": [
    "from cvxopt import matrix, solvers\n",
    "\n",
    "\"\"\"\n",
    "(x, y) = argmax(5x + 3y)\n",
    "x + y <= 10\n",
    "2x + y <= 16\n",
    "x +4y <= 32\n",
    "x, y >= 0\n",
    "-> Gx <= h\n",
    "G = [[1, 1],\n",
    "     [2, 1],\n",
    "     [1, 4],\n",
    "     [-1, 0],\n",
    "     [0, -1]]\n",
    "h = [[10],\n",
    "     [16],\n",
    "     [32],\n",
    "     [0],\n",
    "     [0]]\n",
    "\"\"\"\n",
    "\n",
    "c = matrix([-5., -3.])\n",
    "G = matrix([[1., 2., 1., -1., 0.], [1., 1., 3., 0., -1.]])\n",
    "h = matrix([10., 16., 32., 0., 0.])\n",
    "\n",
    "solvers.options['show_progress'] = False\n",
    "sol = solvers.lp(c, G, h)\n",
    "print('Solution:')\n",
    "print(sol['x'])"
   ],
   "outputs": [
    {
     "output_type": "stream",
     "name": "stdout",
     "text": [
      "Solution:\n",
      "[ 6.00e+00]\n",
      "[ 4.00e+00]\n",
      "\n"
     ]
    }
   ],
   "metadata": {}
  },
  {
   "cell_type": "markdown",
   "source": [
    "# Quadratic Programming"
   ],
   "metadata": {}
  },
  {
   "cell_type": "code",
   "execution_count": 4,
   "source": [
    "from cvxopt import matrix, solvers\n",
    "\n",
    "\"\"\"\n",
    "(x, y) = argmin((x - 10)^2 + (y - 10)^2)\n",
    "x + y <= 10\n",
    "2x + y <= 16\n",
    "x + 4y <= 32\n",
    "x, y > = 0\n",
    "-> Gx <= h\n",
    "G = [[1, 1],\n",
    "     [2, 1],\n",
    "     [1, 4],\n",
    "     [-1, 0],\n",
    "     [0, -1]]\n",
    "h = [[10],\n",
    "     [16],\n",
    "     [32],\n",
    "     [0],\n",
    "     [0]]\n",
    "\"\"\"\n",
    "\n",
    "P = matrix([[1., 0.], [0., 1.]])\n",
    "q = matrix([-10., -10.])\n",
    "G = matrix([[1., 2., 1., -1., 0.], [1., 1., 4., 0., -1.]])\n",
    "h = matrix([10., 16., 32., 0., 0.])\n",
    "\n",
    "solvers.options['show_progress'] = False\n",
    "sol = solvers.qp(P, q, G, h)\n",
    "print('Solution:')\n",
    "print(sol['x'])"
   ],
   "outputs": [
    {
     "output_type": "stream",
     "name": "stdout",
     "text": [
      "Solution:\n",
      "[ 5.00e+00]\n",
      "[ 5.00e+00]\n",
      "\n"
     ]
    }
   ],
   "metadata": {}
  },
  {
   "cell_type": "markdown",
   "source": [
    "# Geometric Programming"
   ],
   "metadata": {}
  },
  {
   "cell_type": "code",
   "execution_count": 7,
   "source": [
    "from cvxopt import matrix, solvers\n",
    "from math import log, exp\n",
    "import numpy as np\n",
    "\n",
    "\"\"\"\n",
    "(x, y, z) = argmin(40(x^-1)(y^-1)(z^-1) + 2xy +2yz + 2zx)\n",
    "x, y, z > 0\n",
    "\"\"\"\n",
    "\n",
    "K = [4] # Number of monomials\n",
    "F = matrix([[-1., 1., 1., 0.],\n",
    "            [-1., 1., 0., 1.],\n",
    "            [-1., 0., 1., 1.]])\n",
    "g = matrix([log(40.), log(2.), log(2.), log(2,)])\n",
    "solvers.options['show_progress'] = False\n",
    "sol = solvers.gp(K, F, g)\n",
    "\n",
    "print('Solution:')\n",
    "print(np.exp(np.array(sol['x'])))\n",
    "print('sol^5 =\\n', np.exp(np.array(sol['x']))**5)"
   ],
   "outputs": [
    {
     "output_type": "stream",
     "name": "stdout",
     "text": [
      "Solution:\n",
      "[[1.58489319]\n",
      " [1.58489319]\n",
      " [1.58489319]]\n",
      "sol^5 =\n",
      " [[9.9999998]\n",
      " [9.9999998]\n",
      " [9.9999998]]\n"
     ]
    }
   ],
   "metadata": {}
  }
 ],
 "metadata": {
  "kernelspec": {
   "name": "python3",
   "display_name": "Python 3.9.5 64-bit"
  },
  "language_info": {
   "codemirror_mode": {
    "name": "ipython",
    "version": 3
   },
   "file_extension": ".py",
   "mimetype": "text/x-python",
   "name": "python",
   "nbconvert_exporter": "python",
   "pygments_lexer": "ipython3",
   "version": "3.9.5"
  },
  "interpreter": {
   "hash": "916dbcbb3f70747c44a77c7bcd40155683ae19c65e1c03b4aa3499c5328201f1"
  }
 },
 "nbformat": 4,
 "nbformat_minor": 5
}