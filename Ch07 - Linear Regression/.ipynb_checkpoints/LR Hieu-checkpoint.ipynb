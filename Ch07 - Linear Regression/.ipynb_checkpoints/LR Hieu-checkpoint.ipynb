{
 "cells": [
  {
   "cell_type": "markdown",
   "metadata": {},
   "source": [
    "# Bài toán\n",
    "\n",
    "Bảng dữ liệu về chiều cao và cân nặng của 15 người:\n",
    "\n",
    "|Chiều cao (cm)   | 147  | 150  | 153  | 155  | 158  | 160  | 163  | 165  | 168  | 170  | 173  | 175  | 178  | 180  | 183  |\n",
    "|:---------------:|:----:|:----:|:----:|:----:|:----:|:----:|:----:|:----:|:----:|:----:|:----:|:----:|:----:|:----:|:----:|\n",
    "|**Cân nặng (kg)**|**49**|**50**|**51**|**52**|**54**|**56**|**58**|**59**|**60**|**62**|**63**|**64**|**66**|**67**|**68**|\n",
    "\n",
    "_Trên thực tế không thể dự đoán chính xác cân nặng dựa vào chiều cao_. Trong bài toán này có thể thấy cân nặng tỉ lệ thuận với chiều cao nên có thể sử dụng Linear Regression. Dữ liệu của hai người có chiều cao 155 cm và 160 cm được sử dụng làm tập kiểm tra, còn lại dùng làm tập huấn luyện. Mô hình được xây dựng theo 2 cách: dùng công thức lý thuyết và dùng thư viện [scikit-learn](http://scikit-learn.org/stable/)\n"
   ]
  },
  {
   "cell_type": "markdown",
   "metadata": {},
   "source": [
    "# Setup"
   ]
  },
  {
   "cell_type": "code",
   "execution_count": 5,
   "metadata": {},
   "outputs": [],
   "source": [
    "import numpy as np\n",
    "import matplotlib.pyplot as plt\n",
    "from sklearn import datasets, linear_model"
   ]
  },
  {
   "cell_type": "markdown",
   "metadata": {},
   "source": [
    "# Visualisation"
   ]
  },
  {
   "cell_type": "code",
   "execution_count": 16,
   "metadata": {},
   "outputs": [
    {
     "data": {
      "image/png": "[encoded data removed]",
      "text/plain": [
       "<Figure size 432x288 with 1 Axes>"
      ]
     },
     "metadata": {
      "needs_background": "light"
     },
     "output_type": "display_data"
    }
   ],
   "source": [
    "# Height (cm)\n",
    "X = np.array([[147, 150, 153, 158, 163, 165, 168, 170, 173, 175, 178, 180, 183]]).T\n",
    "# Weight (kg)\n",
    "y = np.array([[49, 50, 51, 54, 58, 59, 60, 62, 63, 64, 66, 67, 68]]).T\n",
    "# Visualize data\n",
    "plt.plot(X,y,'ro')\n",
    "plt.axis([140,190,45,75])\n",
    "plt.xlabel('Height (cm)')\n",
    "plt.ylabel('Weight (kg)')\n",
    "plt.show()"
   ]
  },
  {
   "cell_type": "markdown",
   "metadata": {},
   "source": [
    "# Xây dựng mô hình\n",
    "Mô hình được xây dựng theo công thức tuyến tính:  \n",
    "**Weight = w1*Height + w0**  \n",
    "*w0* và *w1* được tìm theo 2 cách: dùng công thức lí thuyết và dùng thư viện scikit-learn  \n",
    "## Nghiệm theo công thức lí thuyết"
   ]
  },
  {
   "cell_type": "code",
   "execution_count": 17,
   "metadata": {},
   "outputs": [
    {
     "name": "stdout",
     "output_type": "stream",
     "text": [
      "w= [[-33.73541021]\n",
      " [  0.55920496]]\n"
     ]
    },
    {
     "data": {
      "image/png": "[encoded data removed]",
      "text/plain": [
       "<Figure size 432x288 with 1 Axes>"
      ]
     },
     "metadata": {
      "needs_background": "light"
     },
     "output_type": "display_data"
    }
   ],
   "source": [
    "# XBar\n",
    "one = np.ones((X.shape[0], 1))\n",
    "XBar = np.concatenate((one, X), axis = 1)\n",
    "# print(XBar)\n",
    "\n",
    "# Calculating weights of the fitting line\n",
    "a = np.dot(XBar.T,XBar)\n",
    "b = np.dot(XBar.T,y)\n",
    "w = np.dot(np.linalg.pinv(a), b)\n",
    "print('w=', w)\n",
    "\n",
    "# Drawing the fitting line\n",
    "w0 = w[0][0]\n",
    "w1 = w[1][0]\n",
    "XHat=np.linspace(145,185,2)\n",
    "yHat=w1*xHat + w0\n",
    "\n",
    "plt.plot(X,y,'ro')\n",
    "plt.plot(xHat,yHat)\n",
    "plt.axis([140,190,45,75])\n",
    "plt.xlabel('Height (cm)')\n",
    "plt.ylabel('Weight (kg)')\n",
    "plt.show()"
   ]
  },
  {
   "cell_type": "markdown",
   "metadata": {},
   "source": [
    "### Kết quả dự đoán"
   ]
  },
  {
   "cell_type": "code",
   "execution_count": 20,
   "metadata": {},
   "outputs": [
    {
     "name": "stdout",
     "output_type": "stream",
     "text": [
      "Predict weight of person with height 155 cm: 52.94 (kg), real number: 52 (kg)\n",
      "Predict weight of person with height 160 cm: 58.53 (kg), real number: 56 (kg)\n"
     ]
    }
   ],
   "source": [
    "yHat1 = w1*155 + w0\n",
    "yHat2 = w1*165 + w0\n",
    "\n",
    "print( 'Predict weight of person with height 155 cm: %.2f (kg), real number: 52 (kg)'  %(yHat1) )\n",
    "print( 'Predict weight of person with height 160 cm: %.2f (kg), real number: 56 (kg)'  %(yHat2) )"
   ]
  },
  {
   "cell_type": "markdown",
   "metadata": {},
   "source": [
    "## Nghiệm theo thư viện scikit-learn"
   ]
  },
  {
   "cell_type": "code",
   "execution_count": 25,
   "metadata": {},
   "outputs": [
    {
     "name": "stdout",
     "output_type": "stream",
     "text": [
      "w= [[-33.73541021]\n",
      " [  0.55920496]]\n"
     ]
    }
   ],
   "source": [
    "regr = linear_model.LinearRegression(fit_intercept=False) # fit_intercept=False for calculating bias\n",
    "regr.fit(XBar,y)\n",
    "print('w=', regr.coef_.T)"
   ]
  }
 ],
 "metadata": {
  "kernelspec": {
   "display_name": "Python 3",
   "language": "python",
   "name": "python3"
  },
  "language_info": {
   "codemirror_mode": {
    "name": "ipython",
    "version": 3
   },
   "file_extension": ".py",
   "mimetype": "text/x-python",
   "name": "python",
   "nbconvert_exporter": "python",
   "pygments_lexer": "ipython3",
   "version": "3.6.7"
  }
 },
 "nbformat": 4,
 "nbformat_minor": 4
}
