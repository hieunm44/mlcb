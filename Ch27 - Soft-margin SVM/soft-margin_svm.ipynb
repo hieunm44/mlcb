{
 "cells": [
  {
   "cell_type": "code",
   "execution_count": 1,
   "source": [
    "import numpy as np \n",
    "import matplotlib.pyplot as plt\n",
    "from sklearn.svm import SVC\n",
    "from cvxopt import matrix, solvers\n",
    "np.random.seed(21)\n",
    "\n",
    "means = [[2, 2], [4, 1]]\n",
    "cov = [[.3, .2], [.2, .3]]\n",
    "N = 10\n",
    "X0 = np.random.multivariate_normal(means[0], cov, N)\n",
    "X1 = np.random.multivariate_normal(means[1], cov, N)\n",
    "X1[-1, :] = [2.7, 2]\n",
    "X = np.concatenate((X0.T, X1.T), axis = 1)\n",
    "y = np.concatenate((np.ones((1, N)), -1*np.ones((1, N))), axis = 1)"
   ],
   "outputs": [],
   "metadata": {}
  },
  {
   "cell_type": "code",
   "execution_count": 15,
   "source": [
    "# Solution found by sklearn\n",
    "C = 100\n",
    "clf = SVC(kernel = 'linear', C = C)\n",
    "clf.fit(X.T, y.reshape(-1)) \n",
    "\n",
    "w_sklearn = clf.coef_.reshape(-1, 1)\n",
    "b_sklearn = clf.intercept_[0]\n",
    "print(w_sklearn.T, b_sklearn)"
   ],
   "outputs": [
    {
     "output_type": "stream",
     "name": "stdout",
     "text": [
      "[[-5.54202362  2.4156074 ]] 9.132415590204586\n"
     ]
    }
   ],
   "metadata": {}
  },
  {
   "cell_type": "code",
   "execution_count": 3,
   "source": [
    "# Solution found by dual problem\n",
    "from cvxopt import matrix, solvers\n",
    "# build K\n",
    "V = np.concatenate((X0.T, -X1.T), axis = 1)\n",
    "K = matrix(V.T.dot(V))\n",
    "\n",
    "p = matrix(-np.ones((2*N, 1)))\n",
    "# build A, b, G, h \n",
    "\n",
    "# Gx <= h -> 0 <= all lambda_n <= C\n",
    "G = matrix(np.vstack((-np.eye(2*N), np.eye(2*N))))\n",
    "h = matrix(np.vstack((np.zeros((2*N, 1)), C*np.ones((2*N, 1)))))\n",
    "\n",
    "# Ax = b -> y.T.lambda = 0\n",
    "A = matrix(y.reshape((-1, 2*N))) \n",
    "b = matrix(np.zeros((1, 1))) \n",
    "solvers.options['show_progress'] = False\n",
    "sol = solvers.qp(K, p, G, h, A, b)\n",
    "\n",
    "l = np.array(sol['x'])\n",
    "print('lambda =')\n",
    "print(l)\n"
   ],
   "outputs": [
    {
     "output_type": "stream",
     "name": "stdout",
     "text": [
      "lambda =\n",
      "[[1.26997770e-08]\n",
      " [7.29907090e-09]\n",
      " [6.75263620e+00]\n",
      " [1.20067067e-08]\n",
      " [8.83482181e-09]\n",
      " [1.00135373e-08]\n",
      " [9.49241066e-09]\n",
      " [1.10095260e-08]\n",
      " [1.09448265e-08]\n",
      " [1.15277180e+01]\n",
      " [3.06483278e-09]\n",
      " [2.92217775e-09]\n",
      " [3.52341246e-09]\n",
      " [5.49363383e-09]\n",
      " [4.48478627e-09]\n",
      " [7.55953464e-09]\n",
      " [2.73325320e-09]\n",
      " [5.71296652e-09]\n",
      " [5.02756847e-09]\n",
      " [1.82803543e+01]]\n"
     ]
    }
   ],
   "metadata": {}
  },
  {
   "cell_type": "code",
   "execution_count": 4,
   "source": [
    "S = np.where(l > 1e-5)[0] # support set \n",
    "S2 = np.where(l < .999*C)[0] \n",
    "\n",
    "M = [val for val in S if val in S2] # intersection of two lists\n",
    "\n",
    "VS = V[:, S]\n",
    "lS = l[S]\n",
    "yM = y[:, M]\n",
    "XM = X[:, M]\n",
    "\n",
    "w_dual = VS.dot(lS).reshape(-1, 1)\n",
    "b_dual = np.mean(yM.T - w_dual.T.dot(XM))\n",
    "print(w_dual.T, b_dual) "
   ],
   "outputs": [
    {
     "output_type": "stream",
     "name": "stdout",
     "text": [
      "[[-5.54276837  2.41628387]] 9.132906850859772\n"
     ]
    }
   ],
   "metadata": {}
  },
  {
   "cell_type": "code",
   "execution_count": 12,
   "source": [
    "# Solution found by problem without constraints\n",
    "X0_bar = np.vstack((np.ones((1, N)), X0.T))\n",
    "X1_bar = np.vstack((np.ones((1, N)), X1.T))\n",
    "Z = np.hstack((X0_bar, -X1_bar))\n",
    "lam = 1./C\n",
    "\n",
    "def cost(w):\n",
    "    u = w.T.dot(Z)\n",
    "    L = np.sum(np.maximum(0, 1 - u)) + 0.5*lam*np.sum(w*w) - 0.5*lam*w[0]*w[0]\n",
    "    return L\n",
    "\n",
    "def grad(w):\n",
    "    u = w.T.dot(Z)\n",
    "    H = np.where(u < 1)[1]\n",
    "    ZS = Z[:, H]\n",
    "    g = -np.sum(ZS, axis = 1, keepdims = True) + lam*w\n",
    "    g[0] -= lam*w[0]\n",
    "    return g\n",
    "\n",
    "def num_grad(w):\n",
    "    g = np.zeros_like(w)\n",
    "    eps = 1e-6\n",
    "    for i in range(len(w)):\n",
    "        wp = w.copy()\n",
    "        wm = w.copy()\n",
    "        wp[i] += eps \n",
    "        wm[i] -= eps \n",
    "        g[i] = (cost(wp) - cost(wm))/(2*eps)\n",
    "    return g \n",
    "\n",
    "w0 = np.random.randn(X0_bar.shape[0], 1) \n",
    "g1 = grad(w0)\n",
    "g2 = num_grad(w0)\n",
    "diff = np.linalg.norm(g1 - g2)\n",
    "print('Gradient different:', diff)"
   ],
   "outputs": [
    {
     "output_type": "stream",
     "name": "stdout",
     "text": [
      "Gradient different: 6.888024053287044e-09\n"
     ]
    }
   ],
   "metadata": {}
  },
  {
   "cell_type": "code",
   "execution_count": 14,
   "source": [
    "def grad_descent(w0, eta):\n",
    "    w = w0\n",
    "    it =0\n",
    "    while it < 100000:\n",
    "        it = it + 1\n",
    "        g = grad(w)\n",
    "        w -= eta*g\n",
    "        if (it % 10000) == 1:\n",
    "            print('Iter', it, ', cost =', cost(w))\n",
    "        if np.linalg.norm(g) < 1e-5:\n",
    "            break \n",
    "    return w\n",
    "\n",
    "w0 = np.random.randn(X0_bar.shape[0], 1) \n",
    "w = grad_descent(w0, 0.001)\n",
    "w_hinge = w[:-1].reshape(-1, 1)\n",
    "b_hinge = w[-1]\n",
    "print(w_hinge.T, b_hinge)"
   ],
   "outputs": [
    {
     "output_type": "stream",
     "name": "stdout",
     "text": [
      "Iter 1 , cost = [19.59757581]\n",
      "Iter 10001 , cost = [1.29523096]\n",
      "Iter 20001 , cost = [0.96717892]\n",
      "Iter 30001 , cost = [0.66141401]\n",
      "Iter 40001 , cost = [0.38027089]\n",
      "Iter 50001 , cost = [0.20107483]\n",
      "Iter 60001 , cost = [0.20096532]\n",
      "Iter 70001 , cost = [0.19338311]\n",
      "Iter 80001 , cost = [0.18341559]\n",
      "Iter 90001 , cost = [0.18334596]\n",
      "[[ 9.14466964 -5.54931207]] [2.41826607]\n"
     ]
    }
   ],
   "metadata": {}
  },
  {
   "cell_type": "code",
   "execution_count": null,
   "source": [],
   "outputs": [],
   "metadata": {}
  }
 ],
 "metadata": {
  "orig_nbformat": 4,
  "language_info": {
   "name": "python",
   "version": "3.9.5",
   "mimetype": "text/x-python",
   "codemirror_mode": {
    "name": "ipython",
    "version": 3
   },
   "pygments_lexer": "ipython3",
   "nbconvert_exporter": "python",
   "file_extension": ".py"
  },
  "kernelspec": {
   "name": "python3",
   "display_name": "Python 3.9.5 64-bit"
  },
  "interpreter": {
   "hash": "916dbcbb3f70747c44a77c7bcd40155683ae19c65e1c03b4aa3499c5328201f1"
  }
 },
 "nbformat": 4,
 "nbformat_minor": 2
}