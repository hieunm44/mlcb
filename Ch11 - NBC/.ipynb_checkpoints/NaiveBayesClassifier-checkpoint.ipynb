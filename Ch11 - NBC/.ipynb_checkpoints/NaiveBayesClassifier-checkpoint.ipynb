{
 "cells": [
  {
   "cell_type": "markdown",
   "metadata": {},
   "source": [
    "# Bắc Nam Example"
   ]
  },
  {
   "cell_type": "markdown",
   "metadata": {},
   "source": [
    "## Giải bằng Multinomial NB"
   ]
  },
  {
   "cell_type": "code",
   "execution_count": 4,
   "metadata": {},
   "outputs": [
    {
     "name": "stdout",
     "output_type": "stream",
     "text": [
      "Probability of d5: [[0.89548823 0.10451177]]\n",
      "Probability of d6: [[0.29175335 0.70824665]]\n"
     ]
    }
   ],
   "source": [
    "import numpy as np\n",
    "from sklearn.naive_bayes import MultinomialNB\n",
    "\n",
    "d1 = [2, 1, 1, 0, 0, 0, 0, 0, 0]\n",
    "d2 = [1, 1, 0, 1, 1, 0, 0, 0, 0]\n",
    "d3 = [0, 1, 0, 0, 1, 1, 0, 0, 0]\n",
    "d4 = [0, 1, 0, 0, 0, 0, 1, 1, 1]\n",
    "\n",
    "train_data = np.array([d1, d2, d3, d4])\n",
    "label = np.array(['B', 'B', 'B', 'N'])\n",
    "\n",
    "d5 = np.array([[2, 0, 0, 1, 0, 0, 0, 1, 0]])\n",
    "d6 = np.array([[0, 1, 0, 0, 0, 0, 0, 1, 1]])\n",
    "\n",
    "model = MultinomialNB()\n",
    "model.fit(train_data, label)\n",
    "\n",
    "print('Probability of d5:', model.predict_proba(d5))\n",
    "print('Probability of d6:', model.predict_proba(d6))"
   ]
  },
  {
   "cell_type": "markdown",
   "metadata": {},
   "source": [
    "## Giải bằng Bernoulli NB"
   ]
  },
  {
   "cell_type": "code",
   "execution_count": 5,
   "metadata": {},
   "outputs": [
    {
     "name": "stdout",
     "output_type": "stream",
     "text": [
      "Probability of d5: [[0.76554295 0.23445705]]\n",
      "Probability of d6: [[0.16948581 0.83051419]]\n"
     ]
    }
   ],
   "source": [
    "import numpy as np\n",
    "from sklearn.naive_bayes import BernoulliNB\n",
    "\n",
    "d1 = [1, 1, 1, 0, 0, 0, 0, 0, 0]\n",
    "d2 = [1, 1, 0, 1, 1, 0, 0, 0, 0]\n",
    "d3 = [0, 1, 0, 0, 1, 1, 0, 0, 0]\n",
    "d4 = [0, 1, 0, 0, 0, 0, 1, 1, 1]\n",
    "\n",
    "train_data = np.array([d1, d2, d3, d4])\n",
    "label = np.array(['B', 'B', 'B', 'N'])\n",
    "\n",
    "d5 = np.array([[1, 0, 0, 1, 0, 0, 0, 1, 0]])\n",
    "d6 = np.array([[0, 1, 0, 0, 0, 0, 0, 1, 1]])\n",
    "\n",
    "model = BernoulliNB()\n",
    "model.fit(train_data, label)\n",
    "\n",
    "print('Probability of d5:', model.predict_proba(d5))\n",
    "print('Probability of d6:', model.predict_proba(d6))"
   ]
  },
  {
   "cell_type": "markdown",
   "metadata": {},
   "source": [
    "# Email Spam Filter"
   ]
  },
  {
   "cell_type": "code",
   "execution_count": 21,
   "metadata": {},
   "outputs": [
    {
     "name": "stdout",
     "output_type": "stream",
     "text": [
      "Accuracy: 98.07692307692307 %\n"
     ]
    }
   ],
   "source": [
    "import numpy as np\n",
    "from scipy.sparse import coo_matrix\n",
    "from sklearn.naive_bayes import MultinomialNB\n",
    "from sklearn.metrics import accuracy_score\n",
    "\n",
    "train_data = 'emailData/train-features.txt'\n",
    "test_data = 'emailData/test-features.txt'\n",
    "train_label = 'emailData/train-labels.txt'\n",
    "test_label = 'emailData/test-labels.txt'\n",
    "\n",
    "def read_data(data, label):\n",
    "    with open(label) as f:\n",
    "        content = f.readlines() # content là nội dung từng dòng của f\n",
    "        label = [int(x.strip()) for x in content] # strip: Remove spaces at the beginning and at the end of the string\n",
    "        \n",
    "    with open(data) as f:\n",
    "        content = f.readlines() \n",
    "        content = [x.strip() for x in content] \n",
    "        dat = np.zeros((len(content), 3))\n",
    "        for i, line in enumerate(content):\n",
    "            a = line.split(' ')\n",
    "            dat[i] = np.array([int(a[0]), int(a[1]), int(a[2])])\n",
    "        \n",
    "        # coo_matrix((data, (i, j)), [shape=(M, N)])\n",
    "        # data[:] the entries of the matrix, in any order\n",
    "        # i[:] the row indices of the matrix entries\n",
    "        # j[:] the column indices of the matrix entries\n",
    "        data = coo_matrix((dat[:, 2], (dat[:, 0] - 1, dat[:, 1] - 1)), shape=(len(label), 2500))\n",
    " \n",
    "    return data, label\n",
    "\n",
    "train_data, train_label = read_data(train_data, train_label)\n",
    "test_data, test_label = read_data(test_data, test_label)\n",
    "\n",
    "clf = MultinomialNB()\n",
    "clf.fit(train_data, train_label)\n",
    "y_pred = clf.predict(test_data)\n",
    "print('Accuracy:', accuracy_score(test_label, y_pred)*100, '%')\n"
   ]
  }
 ],
 "metadata": {
  "kernelspec": {
   "display_name": "Python 3",
   "language": "python",
   "name": "python3"
  },
  "language_info": {
   "codemirror_mode": {
    "name": "ipython",
    "version": 3
   },
   "file_extension": ".py",
   "mimetype": "text/x-python",
   "name": "python",
   "nbconvert_exporter": "python",
   "pygments_lexer": "ipython3",
   "version": "3.6.7"
  }
 },
 "nbformat": 4,
 "nbformat_minor": 4
}
